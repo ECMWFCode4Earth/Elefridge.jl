{
 "cells": [
  {
   "cell_type": "markdown",
   "metadata": {},
   "source": [
    "# Calculating the bitwise information content with Julia and Elefridge.jl\n",
    "An example"
   ]
  },
  {
   "cell_type": "markdown",
   "metadata": {},
   "source": [
    "## 0. TL;DR"
   ]
  },
  {
   "cell_type": "code",
   "execution_count": 1,
   "metadata": {
    "scrolled": true
   },
   "outputs": [
    {
     "data": {
      "image/png": "[encoded data removed]",
      "text/plain": [
       "Figure(PyObject <Figure size 640x480 with 1 Axes>)"
      ]
     },
     "metadata": {},
     "output_type": "display_data"
    }
   ],
   "source": [
    "using NetCDF, PyPlot, Elefridge                                         # Load packages\n",
    "ncfile = NetCDF.open(\"/data1/ens/ensemble.t.member1.steps1-90.ll.nc\")   # Load ncfile\n",
    "temp = ncfile.vars[\"t\"][:,:,1,1]                                        # Retrieve one horizontal layer\n",
    "\n",
    "bitinf_lon = bitinformation(temp)                                       # calculate bitinformation in longitude\n",
    "bitinf_lat = bitinformation(permutedims(temp,[2,1]))                    # calculate bitinformation in latitude\n",
    "bitinf_temp = (bitinf_lon + bitinf_lat)/2                               # Add & scale to 1\n",
    "\n",
    "bitinf_rand = bitinformation(randn(Float32,100000))                     # Bitwise information for random N(0,1)\n",
    "bitinf_sorted = bitinformation(sort(randn(Float32,100000)))             # Bitwise information for sorted random N(0,1)\n",
    "\n",
    "imshow(hcat(bitinf_temp,bitinf_rand,bitinf_sorted)')                    # Plot for lon,lat,both\n",
    "yticks(0:2,[\"Temperature\",\"Random\",\"Sorted random\"])                    # label y ticks\n",
    "xlabel(\"bits\")                                                          # label x axis\n",
    "xticks(0:31,vcat(\"±\",[L\"e_%$i\" for i in 1:8],                           # label sign, exponent and significant bits\n",
    "        [L\"s_{%$i}\" for i in 1:23]),fontsize=8);"
   ]
  },
  {
   "cell_type": "markdown",
   "metadata": {},
   "source": [
    "# Now the long version:\n",
    "## 1. Load / install required packages"
   ]
  },
  {
   "cell_type": "code",
   "execution_count": 2,
   "metadata": {},
   "outputs": [],
   "source": [
    "# if not installed yet do using Pkg; Pkg.add(\"NetCDF\"); Pkg.add(\"PyPlot\") etc\n",
    "# Elefridge is not yet registered,\n",
    "# full github url is therefore required: Pkg.add(\"https://github.com/esowc/Elefridge.jl\")\n",
    "using NetCDF     \n",
    "using PyPlot     \n",
    "using Elefridge  "
   ]
  },
  {
   "cell_type": "markdown",
   "metadata": {},
   "source": [
    "## 2. Retrieve data from a netcdf file"
   ]
  },
  {
   "cell_type": "code",
   "execution_count": 3,
   "metadata": {},
   "outputs": [
    {
     "data": {
      "text/plain": [
       "\n",
       "##### NetCDF File #####\n",
       "\n",
       "/data1/ens/ensemble.t.member1.steps1-90.ll.nc\n",
       "\n",
       "##### Dimensions #####\n",
       "\n",
       "Name                                                Length                    \n",
       "--------------------------------------------------------------------------------\n",
       "lat                                                 901                       \n",
       "time                                                UNLIMITED (90 currently)  \n",
       "lev                                                 11                        \n",
       "nhyi                                                92                        \n",
       "nhym                                                91                        \n",
       "lon                                                 1800                      \n",
       "\n",
       "##### Variables #####\n",
       "\n",
       "Name                            Type            Dimensions                      \n",
       "--------------------------------------------------------------------------------\n",
       "lat                             DOUBLE          lat                             \n",
       "hybm                            DOUBLE          nhym                            \n",
       "hybi                            DOUBLE          nhyi                            \n",
       "time                            DOUBLE          time                            \n",
       "lev                             DOUBLE          lev                             \n",
       "t                               FLOAT           lon lat lev time                \n",
       "hyai                            DOUBLE          nhyi                            \n",
       "hyam                            DOUBLE          nhym                            \n",
       "lon                             DOUBLE          lon                             \n",
       "\n",
       "##### Attributes #####\n",
       "\n",
       "Variable            Name                Value                                   \n",
       "--------------------------------------------------------------------------------\n",
       "global              history             Thu Dec 17 17:20:41 2020: cdo -f nc4 c..\n",
       "global              CDO                 Climate Data Operators version 1.9.8 (..\n",
       "global              institution         European Centre for Medium-Range Weath..\n",
       "global              CDI                 Climate Data Interface version 1.9.8 (..\n",
       "global              Conventions         CF-1.6                                  \n",
       "lat                 units               degrees_north                           \n",
       "lat                 long_name           latitude                                \n",
       "lat                 axis                Y                                       \n",
       "lat                 standard_name       latitude                                \n",
       "hybm                units               1                                       \n",
       "hybm                long_name           hybrid B coefficient at layer midpoints \n",
       "hybi                units               1                                       \n",
       "hybi                long_name           hybrid B coefficient at layer interfaces\n",
       "time                units               hours since 2020-9-24 00:00:00          \n",
       "time                calendar            proleptic_gregorian                     \n",
       "time                axis                T                                       \n",
       "time                standard_name       time                                    \n",
       "lev                 units               level                                   \n",
       "lev                 formula_terms       ap: hyam b: hybm ps: aps                \n",
       "lev                 long_name           hybrid level at layer midpoints         \n",
       "lev                 formula             hyam hybm (mlev=hyam+hybm*aps)          \n",
       "lev                 standard_name       hybrid_sigma_pressure                   \n",
       "lev                 positive            down                                    \n",
       "t                   units               K                                       \n",
       "t                   ensemble_members    51                                      \n",
       "t                   long_name           Temperature                             \n",
       "t                   param               0.0.0                                   \n",
       "t                   forecast_init_type  255                                     \n",
       "t                   standard_name       air_temperature                         \n",
       "t                   institution         ECMWF                                   \n",
       "t                   realization         1                                       \n",
       "hyai                units               Pa                                      \n",
       "hyai                long_name           hybrid A coefficient at layer interfaces\n",
       "hyam                units               Pa                                      \n",
       "hyam                long_name           hybrid A coefficient at layer midpoints \n",
       "lon                 units               degrees_east                            \n",
       "lon                 long_name           longitude                               \n",
       "lon                 axis                X                                       \n",
       "lon                 standard_name       longitude                               \n"
      ]
     },
     "execution_count": 3,
     "metadata": {},
     "output_type": "execute_result"
    }
   ],
   "source": [
    "ncfile = NetCDF.open(\"/data1/ens/ensemble.t.member1.steps1-90.ll.nc\")"
   ]
  },
  {
   "cell_type": "code",
   "execution_count": 4,
   "metadata": {},
   "outputs": [
    {
     "data": {
      "text/plain": [
       "1800×901 Array{Float32,2}:\n",
       " 270.099  271.781  272.033  272.048  …  233.155  233.483  233.263  233.109\n",
       " 270.099  271.786  272.039  272.057     233.153  233.484  233.265  233.109\n",
       " 270.099  271.79   272.045  272.066     233.152  233.485  233.268  233.109\n",
       " 270.099  271.794  272.051  272.074     233.151  233.486  233.271  233.109\n",
       " 270.099  271.799  272.057  272.083     233.149  233.488  233.273  233.109\n",
       " 270.099  271.803  272.063  272.092  …  233.148  233.489  233.276  233.109\n",
       " 270.099  271.807  272.07   272.101     233.147  233.49   233.278  233.109\n",
       " 270.099  271.812  272.076  272.11      233.145  233.492  233.281  233.109\n",
       " 270.099  271.816  272.082  272.118     233.144  233.493  233.283  233.109\n",
       " 270.099  271.82   272.088  272.127     233.143  233.495  233.286  233.109\n",
       " 270.099  271.825  272.094  272.136  …  233.142  233.496  233.289  233.109\n",
       " 270.099  271.829  272.1    272.144     233.14   233.497  233.291  233.109\n",
       " 270.099  271.833  272.106  272.153     233.139  233.499  233.294  233.109\n",
       "   ⋮                                 ⋱                               ⋮\n",
       " 270.099  271.728  271.957  271.938     233.174  233.47   233.232  233.109\n",
       " 270.099  271.732  271.963  271.948     233.172  233.471  233.234  233.109\n",
       " 270.099  271.737  271.97   271.957  …  233.17   233.472  233.237  233.109\n",
       " 270.099  271.741  271.976  271.966     233.169  233.473  233.24   233.109\n",
       " 270.099  271.746  271.982  271.975     233.167  233.474  233.242  233.109\n",
       " 270.099  271.75   271.989  271.984     233.165  233.475  233.245  233.109\n",
       " 270.099  271.755  271.995  271.994     233.164  233.476  233.247  233.109\n",
       " 270.099  271.759  272.001  272.003  …  233.162  233.477  233.25   233.109\n",
       " 270.099  271.764  272.008  272.012     233.161  233.478  233.253  233.109\n",
       " 270.099  271.768  272.014  272.021     233.159  233.479  233.255  233.109\n",
       " 270.099  271.772  272.02   272.03      233.158  233.48   233.258  233.109\n",
       " 270.099  271.777  272.026  272.039     233.156  233.482  233.26   233.109"
      ]
     },
     "execution_count": 4,
     "metadata": {},
     "output_type": "execute_result"
    }
   ],
   "source": [
    "# load data for all longitudes, all latitudes, but only 1 vertical level and only the first time step\n",
    "# into a Julia array\n",
    "temp = ncfile.vars[\"t\"][:,:,1,1]  "
   ]
  },
  {
   "cell_type": "markdown",
   "metadata": {},
   "source": [
    "## 3. Calculate bitwise information"
   ]
  },
  {
   "cell_type": "markdown",
   "metadata": {},
   "source": [
    "For an array with `Float32,Float64` of any shape or size `bitinformation` from Elefridge calculates the bitwise information content. The array `temp` is lon x lat, and Julia is, like Fortran, column-major. Hence, the bitwise information will we calculated varying lon first (i.e. in zonal direction)."
   ]
  },
  {
   "cell_type": "code",
   "execution_count": 5,
   "metadata": {},
   "outputs": [
    {
     "data": {
      "text/plain": [
       "32-element Array{Float64,1}:\n",
       " 0.0\n",
       " 0.0\n",
       " 0.0\n",
       " 0.0\n",
       " 0.0\n",
       " 0.0\n",
       " 0.0\n",
       " 0.0\n",
       " 0.5247804655847595\n",
       " 0.5247804655847595\n",
       " 0.5247804655847595\n",
       " 0.9150912167277832\n",
       " 0.9003880872130032\n",
       " ⋮\n",
       " 0.0009834086480837168\n",
       " 0.0001785159038880657\n",
       " 3.378799099607033e-5\n",
       " 4.540478740544529e-6\n",
       " 2.6755149382662324e-6\n",
       " 1.1028484031561092e-6\n",
       " 5.639345806218721e-6\n",
       " 3.7861695600938106e-6\n",
       " 1.6938705127422793e-7\n",
       " 5.548234512708916e-6\n",
       " 7.605972952184903e-6\n",
       " 3.6178839610823132e-6"
      ]
     },
     "execution_count": 5,
     "metadata": {},
     "output_type": "execute_result"
    }
   ],
   "source": [
    "bitinf_lon = bitinformation(temp)"
   ]
  },
  {
   "cell_type": "markdown",
   "metadata": {},
   "source": [
    "This returns a 32-element array, where each element is the information content of that bit (we started from Float32, hence 32 elements). We can calculate the information content in various dimensions by permuting them in the array"
   ]
  },
  {
   "cell_type": "code",
   "execution_count": 6,
   "metadata": {},
   "outputs": [
    {
     "data": {
      "text/plain": [
       "32-element Array{Float64,1}:\n",
       " 0.0\n",
       " 0.0\n",
       " 0.0\n",
       " 0.0\n",
       " 0.0\n",
       " 0.0\n",
       " 0.0\n",
       " 0.0\n",
       " 0.4999272167162135\n",
       " 0.49992721671621354\n",
       " 0.49992721671621354\n",
       " 0.8852801241406634\n",
       " 0.8260100311236573\n",
       " ⋮\n",
       " 3.1230878608790036e-6\n",
       " 4.6010844305666154e-6\n",
       " 6.1242314198795e-6\n",
       " 1.762231115920443e-6\n",
       " 2.4149280019036823e-6\n",
       " 7.626932688742372e-7\n",
       " 1.4998772643881608e-6\n",
       " 2.4216865306403434e-6\n",
       " 8.596781368996886e-7\n",
       " 3.7257871003948395e-6\n",
       " 7.324597640079311e-7\n",
       " 2.8612963870466857e-6"
      ]
     },
     "execution_count": 6,
     "metadata": {},
     "output_type": "execute_result"
    }
   ],
   "source": [
    "bitinf_lat = bitinformation(permutedims(temp,[2,1]))   # [2,1] means that the 2nd dimension comes first, etc."
   ]
  },
  {
   "cell_type": "markdown",
   "metadata": {},
   "source": [
    "If we are only interested in the total information content regardless of the dimension, we can add them"
   ]
  },
  {
   "cell_type": "code",
   "execution_count": 7,
   "metadata": {},
   "outputs": [],
   "source": [
    "bitinf = (bitinf_lon + bitinf_lat)/2;"
   ]
  },
  {
   "cell_type": "markdown",
   "metadata": {},
   "source": [
    "Here, the information content is also scaled. In that sense a bit that has 1 bit information has full information and is perfectly correlated (or anti-correlated) with the same bits in the surrounding grid points."
   ]
  },
  {
   "cell_type": "markdown",
   "metadata": {},
   "source": [
    "## 4. Plot the information"
   ]
  },
  {
   "cell_type": "code",
   "execution_count": 8,
   "metadata": {},
   "outputs": [
    {
     "data": {
      "image/png": "[encoded data removed]",
      "text/plain": [
       "Figure(PyObject <Figure size 640x480 with 1 Axes>)"
      ]
     },
     "metadata": {},
     "output_type": "display_data"
    }
   ],
   "source": [
    "imshow(hcat(bitinf,bitinf_rand,bitinf_sorted)')                         # Plot for lon,lat,both\n",
    "yticks(0:2,[\"Temperature\",\"Random\",\"Sorted random\"])                    # label y ticks\n",
    "xlabel(\"bits\")                                                          # label x axis\n",
    "xticks(0:31,vcat(\"±\",[L\"e_%$i\" for i in 1:8],                           # label sign, exponent and significant bits\n",
    "        [L\"s_{%$i}\" for i in 1:23]),fontsize=8);"
   ]
  },
  {
   "cell_type": "code",
   "execution_count": null,
   "metadata": {},
   "outputs": [],
   "source": []
  }
 ],
 "metadata": {
  "kernelspec": {
   "display_name": "Julia 1.5.2",
   "language": "julia",
   "name": "julia-1.5"
  },
  "language_info": {
   "file_extension": ".jl",
   "mimetype": "application/julia",
   "name": "julia",
   "version": "1.5.2"
  }
 },
 "nbformat": 4,
 "nbformat_minor": 4
}
