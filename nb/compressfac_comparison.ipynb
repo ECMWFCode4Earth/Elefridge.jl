{
 "cells": [
  {
   "cell_type": "markdown",
   "metadata": {},
   "source": [
    "# COMPARE COMPRESSION FACTORS OF VARIOUS METHODS"
   ]
  },
  {
   "cell_type": "code",
   "execution_count": 2,
   "metadata": {},
   "outputs": [],
   "source": [
    "using PyCall, PyPlot\n",
    "using JLD2, FileIO, NetCDF\n",
    "using StatsBase, Statistics, BitInformation\n",
    "using ZfpCompression, TranscodingStreams, CodecZstd\n",
    "using ProgressMeter\n",
    "\n",
    "ticker = pyimport(\"matplotlib.ticker\");\n",
    "\n",
    "ZstdCompressorL3 = ZstdCompressor(level=3)\n",
    "TranscodingStreams.initialize(ZstdCompressorL3)\n",
    "\n",
    "ZstdCompressorL10 = ZstdCompressor(level=10)\n",
    "TranscodingStreams.initialize(ZstdCompressorL10)\n",
    "\n",
    "ZstdCompressorL22 = ZstdCompressor(level=22)\n",
    "TranscodingStreams.initialize(ZstdCompressorL22)"
   ]
  },
  {
   "cell_type": "code",
   "execution_count": 3,
   "metadata": {},
   "outputs": [],
   "source": [
    "path = \"/network/aopp/chaos/pred/kloewer/esowc/\"\n",
    "member1files = filter(x->endswith(x,\".nc\"),readdir(joinpath(path,\"member1\")))\n",
    "steps = [parse(Int,split(split(file,\"step\")[2],\".\")[1]) for file in member1files]\n",
    "sort!(steps)\n",
    "\n",
    "ncfile = NetCDF.open(joinpath(path,\"member1\",\"ensemble.t.member1.step0.ll.nc\"))\n",
    "temp = ncfile.vars[\"t\"][:,:,:];"
   ]
  },
  {
   "cell_type": "code",
   "execution_count": 4,
   "metadata": {},
   "outputs": [
    {
     "data": {
      "text/plain": [
       "(1800, 901, 91)"
      ]
     },
     "execution_count": 4,
     "metadata": {},
     "output_type": "execute_result"
    }
   ],
   "source": [
    "Nens = 25\n",
    "Nbytes = 4   # 4 bytes for float32\n",
    "Nsteps = length(steps)\n",
    "Nlon,Nlat,Nvert = size(temp)"
   ]
  },
  {
   "cell_type": "code",
   "execution_count": 5,
   "metadata": {},
   "outputs": [
    {
     "data": {
      "text/plain": [
       "14"
      ]
     },
     "execution_count": 5,
     "metadata": {},
     "output_type": "execute_result"
    }
   ],
   "source": [
    "# precision options\n",
    "keepbits100 = 15\n",
    "keepbits99 = 9\n",
    "\n",
    "precision100 = 22\n",
    "precision99 = 14"
   ]
  },
  {
   "cell_type": "markdown",
   "metadata": {},
   "source": [
    "## 1. ZFP: Compress only horizontal 2D"
   ]
  },
  {
   "cell_type": "code",
   "execution_count": 6,
   "metadata": {
    "scrolled": true
   },
   "outputs": [
    {
     "name": "stderr",
     "output_type": "stream",
     "text": [
      "\u001b[32mProgress: 100%|█████████████████████████████████████████| Time: 0:00:24\u001b[39m\n"
     ]
    }
   ],
   "source": [
    "cfs_zfp_2d_hori_all99 = fill(0.0,Nvert)\n",
    "cfs_zfp_2d_hori_all100 = fill(0.0,Nvert)\n",
    "\n",
    "ori_size = Nlon*Nlat*Nbytes*2   # relative to Float64\n",
    "\n",
    "@showprogress for iv in 1:Nvert\n",
    "    s = steps[rand(1:Nsteps)]    # pick a random time step\n",
    "    m = rand(1:Nens)             # pick a random ensemble member\n",
    "    \n",
    "    # load file\n",
    "    ncfile = NetCDF.open(joinpath(path,\"member$m\",\"ensemble.t.member$m.step$s.ll.nc\"))\n",
    "    temp = ncfile.vars[\"t\"][:,:,iv];\n",
    "    \n",
    "    # compress only vertical level\n",
    "    cfs_zfp_2d_hori_all99[iv] = ori_size/sizeof(zfp_compress(temp,precision=precision99))\n",
    "    cfs_zfp_2d_hori_all100[iv] = ori_size/sizeof(zfp_compress(temp,precision=precision100))\n",
    "end"
   ]
  },
  {
   "cell_type": "code",
   "execution_count": 7,
   "metadata": {},
   "outputs": [
    {
     "data": {
      "text/plain": [
       "(20.622830330234866, 23.84964926986368)"
      ]
     },
     "execution_count": 7,
     "metadata": {},
     "output_type": "execute_result"
    }
   ],
   "source": [
    "extrema(cfs_zfp_2d_hori_all99)"
   ]
  },
  {
   "cell_type": "code",
   "execution_count": 8,
   "metadata": {},
   "outputs": [
    {
     "data": {
      "text/plain": [
       "(6.356285934885106, 8.3778883258171)"
      ]
     },
     "execution_count": 8,
     "metadata": {},
     "output_type": "execute_result"
    }
   ],
   "source": [
    "extrema(cfs_zfp_2d_hori_all100)"
   ]
  },
  {
   "cell_type": "markdown",
   "metadata": {},
   "source": [
    "## 2. ZFP: Compress spatial 3D"
   ]
  },
  {
   "cell_type": "code",
   "execution_count": null,
   "metadata": {},
   "outputs": [],
   "source": [
    "cfs_zfp_3d_space_all99 = fill(0.0,Nens)\n",
    "cfs_zfp_3d_space_all100 = fill(0.0,Nens)\n",
    "ori_size = Nlon*Nlat*Nvert*Nbytes*2   # relative to Float64\n",
    "\n",
    "for ie in 1:Nens\n",
    "    print(\"$ie,\")\n",
    "    s = steps[rand(1:Nsteps)] # pick a random time step\n",
    "    \n",
    "    # load member ie\n",
    "    ncfile = NetCDF.open(joinpath(path,\"member$ie\",\"ensemble.t.member$ie.step$s.ll.nc\"))\n",
    "    temp = ncfile.vars[\"t\"][:,:,:];\n",
    "    \n",
    "    # compress the 3d field\n",
    "    cfs_zfp_3d_space_all99[ie] = ori_size/sizeof(zfp_compress(temp,precision=precision99,nthreads=4))\n",
    "    cfs_zfp_3d_space_all100[ie] = ori_size/sizeof(zfp_compress(temp,precision=precision100,nthreads=4))\n",
    "end"
   ]
  },
  {
   "cell_type": "code",
   "execution_count": null,
   "metadata": {},
   "outputs": [],
   "source": [
    "extrema(cfs_zfp_3d_space_all99)"
   ]
  },
  {
   "cell_type": "code",
   "execution_count": null,
   "metadata": {},
   "outputs": [],
   "source": [
    "extrema(cfs_zfp_3d_space_all100)"
   ]
  },
  {
   "cell_type": "code",
   "execution_count": 10,
   "metadata": {},
   "outputs": [
    {
     "data": {
      "text/plain": [
       "2-element Vector{Symbol}:\n",
       " :cfs_zfp_3d_space_all99\n",
       " :cfs_zfp_3d_space_all100"
      ]
     },
     "execution_count": 10,
     "metadata": {},
     "output_type": "execute_result"
    }
   ],
   "source": [
    "# @save joinpath(path,\"analysis\",\"compressfac_zfp_3d_space.jld2\") cfs_zfp_3d_space_all99 cfs_zfp_3d_space_all100\n",
    "@load joinpath(path,\"analysis\",\"compressfac_zfp_3d_space.jld2\") cfs_zfp_3d_space_all99 cfs_zfp_3d_space_all100"
   ]
  },
  {
   "cell_type": "markdown",
   "metadata": {},
   "source": [
    "## 3. ZFP: Compress horizontal + time 3D"
   ]
  },
  {
   "cell_type": "code",
   "execution_count": null,
   "metadata": {},
   "outputs": [],
   "source": [
    "cfs_zfp_3d_horitime_all99 = fill(0.0,Nvert)\n",
    "cfs_zfp_3d_horitime_all100 = fill(0.0,Nvert)\n",
    "Nsteps1h = 91                             # there are 91 steps with dt=1h\n",
    "ori_size = Nlon*Nlat*Nbytes*2*Nsteps1h    # relative to Float64\n",
    "\n",
    "for iv in 1:Nvert\n",
    "    print(\"$iv,\")\n",
    "    temp = fill(0.0,Nlon,Nlat,Nsteps1h)\n",
    "    \n",
    "    for i in 1:Nsteps1h\n",
    "        t = steps[i]\n",
    "        \n",
    "        # load time steps\n",
    "        ncfile = NetCDF.open(joinpath(path,\"member1\",\"ensemble.t.member1.step$t.ll.nc\"))\n",
    "        temp[:,:,i] = ncfile.vars[\"t\"][:,:,iv];\n",
    "    end\n",
    "    \n",
    "    cfs_zfp_3d_horitime_all99[iv] = ori_size/sizeof(zfp_compress(temp,precision=precision99,nthreads=4))\n",
    "    cfs_zfp_3d_horitime_all100[iv] = ori_size/sizeof(zfp_compress(temp,precision=precision100,nthreads=4))\n",
    "end"
   ]
  },
  {
   "cell_type": "code",
   "execution_count": null,
   "metadata": {},
   "outputs": [],
   "source": [
    "extrema(cfs_zfp_3d_horitime_all99)"
   ]
  },
  {
   "cell_type": "code",
   "execution_count": null,
   "metadata": {
    "scrolled": true
   },
   "outputs": [],
   "source": [
    "extrema(cfs_zfp_3d_horitime_all100)"
   ]
  },
  {
   "cell_type": "code",
   "execution_count": 11,
   "metadata": {},
   "outputs": [
    {
     "data": {
      "text/plain": [
       "2-element Vector{Symbol}:\n",
       " :cfs_zfp_3d_horitime_all99\n",
       " :cfs_zfp_3d_horitime_all100"
      ]
     },
     "execution_count": 11,
     "metadata": {},
     "output_type": "execute_result"
    }
   ],
   "source": [
    "# @save joinpath(path,\"analysis\",\"compressfac_zfp_3d_horitime.jld2\") cfs_zfp_3d_horitime_all99 cfs_zfp_3d_horitime_all100\n",
    "@load joinpath(path,\"analysis\",\"compressfac_zfp_3d_horitime.jld2\") cfs_zfp_3d_horitime_all99 cfs_zfp_3d_horitime_all100"
   ]
  },
  {
   "cell_type": "markdown",
   "metadata": {},
   "source": [
    "## 4. ZFP: Compress in space and time"
   ]
  },
  {
   "cell_type": "code",
   "execution_count": null,
   "metadata": {
    "scrolled": true
   },
   "outputs": [],
   "source": [
    "chunksize = 8\n",
    "Nsteps1h = 91                              # there are 91 steps with dt=1h\n",
    "Nchunks = Nsteps1h÷chunksize               # compress in chunks of 4 time steps\n",
    "cfs_zfp_4d_spacetime99 = fill(0.0,Nchunks)\n",
    "cfs_zfp_4d_spacetime100 = fill(0.0,Nchunks)\n",
    "ori_size = Nlon*Nlat*Nvert*Nbytes*2*chunksize      # relative to Float64\n",
    "\n",
    "for ic in 1:Nchunks\n",
    "    print(\"$ic\")\n",
    "    \n",
    "    temp = fill(0f0,Nlon,Nlat,Nvert,chunksize)\n",
    "    for i in 1:chunksize\n",
    "        s = steps[(ic-1)*chunksize+i]\n",
    "        ncfile = NetCDF.open(joinpath(path,\"member1\",\"ensemble.t.member1.step$s.ll.nc\"))\n",
    "        temp[:,:,:,i] = ncfile.vars[\"t\"][:,:,:]\n",
    "    end\n",
    "    print(\"L\")\n",
    "    \n",
    "    cfs_zfp_4d_spacetime99[ic] = ori_size/sizeof(zfp_compress(temp,precision=precision99,nthreads=8))\n",
    "    cfs_zfp_4d_spacetime100[ic] = ori_size/sizeof(zfp_compress(temp,precision=precision100,nthreads=8))\n",
    "    print(\"X,\")\n",
    "end"
   ]
  },
  {
   "cell_type": "code",
   "execution_count": null,
   "metadata": {
    "scrolled": true
   },
   "outputs": [],
   "source": [
    "extrema(cfs_zfp_4d_spacetime99)"
   ]
  },
  {
   "cell_type": "code",
   "execution_count": null,
   "metadata": {
    "scrolled": true
   },
   "outputs": [],
   "source": [
    "extrema(cfs_zfp_4d_spacetime100)"
   ]
  },
  {
   "cell_type": "code",
   "execution_count": 12,
   "metadata": {},
   "outputs": [
    {
     "data": {
      "text/plain": [
       "2-element Vector{Symbol}:\n",
       " :cfs_zfp_4d_spacetime99\n",
       " :cfs_zfp_4d_spacetime100"
      ]
     },
     "execution_count": 12,
     "metadata": {},
     "output_type": "execute_result"
    }
   ],
   "source": [
    "# @save joinpath(path,\"analysis\",\"compressfac_zfp_4d_spacetime.jld2\") cfs_zfp_4d_spacetime99 cfs_zfp_4d_spacetime100\n",
    "@load joinpath(path,\"analysis\",\"compressfac_zfp_4d_spacetime.jld2\") cfs_zfp_4d_spacetime99 cfs_zfp_4d_spacetime100"
   ]
  },
  {
   "cell_type": "markdown",
   "metadata": {},
   "source": [
    "## 5. ZFP COMPRESS SPACE+ENSEMBLE"
   ]
  },
  {
   "cell_type": "code",
   "execution_count": null,
   "metadata": {},
   "outputs": [],
   "source": [
    "Nsteps = 10                              # compress the first 20 time steps\n",
    "Nens = 25                                # ensemble members\n",
    "cfs_zfp_4d_ensemble99 = fill(0.0,Nsteps)\n",
    "cfs_zfp_4d_ensemble100 = fill(0.0,Nsteps)\n",
    "ori_size = Nlon*Nlat*Nvert*Nbytes*2*Nens      # relative to Float64\n",
    "\n",
    "for it in 1:Nsteps\n",
    "    print(\"$it\")\n",
    "    \n",
    "    temp = fill(0f0,Nlon,Nlat,Nvert,Nens)\n",
    "    for i in 1:Nens\n",
    "        ncfile = NetCDF.open(joinpath(path,\"member$i\",\"ensemble.t.member$i.step$it.ll.nc\"))\n",
    "        temp[:,:,:,i] = ncfile.vars[\"t\"][:,:,:]\n",
    "    end\n",
    "    print(\"L\")\n",
    "    \n",
    "    cfs_zfp_4d_ensemble99[it] = ori_size/sizeof(zfp_compress(temp,precision=precision99,nthreads=8))\n",
    "    cfs_zfp_4d_ensemble100[it] = ori_size/sizeof(zfp_compress(temp,precision=precision100,nthreads=8))\n",
    "    print(\"X,\")\n",
    "end"
   ]
  },
  {
   "cell_type": "code",
   "execution_count": null,
   "metadata": {
    "scrolled": true
   },
   "outputs": [],
   "source": [
    "extrema(cfs_zfp_4d_ensemble99)"
   ]
  },
  {
   "cell_type": "code",
   "execution_count": null,
   "metadata": {},
   "outputs": [],
   "source": [
    "extrema(cfs_zfp_4d_ensemble100)"
   ]
  },
  {
   "cell_type": "code",
   "execution_count": 13,
   "metadata": {},
   "outputs": [
    {
     "data": {
      "text/plain": [
       "2-element Vector{Symbol}:\n",
       " :cfs_zfp_4d_ensemble99\n",
       " :cfs_zfp_4d_ensemble100"
      ]
     },
     "execution_count": 13,
     "metadata": {},
     "output_type": "execute_result"
    }
   ],
   "source": [
    "# @save joinpath(path,\"analysis\",\"compressfac_zfp_4d_ensemble.jld2\") cfs_zfp_4d_ensemble99 cfs_zfp_4d_ensemble100\n",
    "@load joinpath(path,\"analysis\",\"compressfac_zfp_4d_ensemble.jld2\") cfs_zfp_4d_ensemble99 cfs_zfp_4d_ensemble100"
   ]
  },
  {
   "cell_type": "markdown",
   "metadata": {},
   "source": [
    "## 6. ZSTD COMPRESS ALONG VARIOUS DIMENSIONS"
   ]
  },
  {
   "cell_type": "code",
   "execution_count": 12,
   "metadata": {
    "scrolled": false
   },
   "outputs": [
    {
     "name": "stdout",
     "output_type": "stream",
     "text": [
      "1Lx6y5z4Lx24y21z14,2Lx6y5z4Lx25y22z14,3Lx6y5z4Lx25y22z14,4Lx6y5z4Lx25y22z14,5Lx6y5z4Lx25y22z14,"
     ]
    }
   ],
   "source": [
    "# LONGITUDE, LATITUDE, VERTICAL\n",
    "Nsteps = 5\n",
    "cfs_zstd_longitude99 = fill(0.0,Nsteps)\n",
    "cfs_zstd_latitude99 = fill(0.0,Nsteps)\n",
    "cfs_zstd_vertical99 = fill(0.0,Nsteps)\n",
    "cfs_zstd_longitude100 = fill(0.0,Nsteps)\n",
    "cfs_zstd_latitude100 = fill(0.0,Nsteps)\n",
    "cfs_zstd_vertical100 = fill(0.0,Nsteps)\n",
    "\n",
    "for i in 1:Nsteps\n",
    "    print(\"$i\")\n",
    "        \n",
    "    # load time step\n",
    "    ncfile = NetCDF.open(joinpath(path,\"member1\",\"ensemble.t.member1.step$i.ll.nc\"))\n",
    "    temp = ncfile.vars[\"t\"][:,:,:]\n",
    "    print(\"L\")\n",
    "    \n",
    "    # 100% information\n",
    "        # LONGITUDE no permutation of dimensions\n",
    "        round!(temp,keepbits100)\n",
    "        Xr8 = copy(reinterpret(UInt8,vec(temp)))\n",
    "        cfs_zstd_longitude100[i] = 2*sizeof(temp)/sizeof(transcode(ZstdCompressorL10,Xr8))\n",
    "        print(\"x\")\n",
    "        print(\"$(Int(round(cfs_zstd_longitude100[i])))\")\n",
    "\n",
    "        # LATITUDE\n",
    "        temp = permutedims(temp,[2,1,3])   # put latitude first\n",
    "        copyto!(Xr8,reinterpret(UInt8,vec(temp)))\n",
    "        cfs_zstd_latitude100[i] = 2*sizeof(temp)/sizeof(transcode(ZstdCompressorL10,Xr8))\n",
    "        print(\"y\")\n",
    "        print(\"$(Int(round(cfs_zstd_latitude100[i])))\")\n",
    "\n",
    "        # VERTICAL\n",
    "        temp = permutedims(temp,[3,1,2])   # put vertical first\n",
    "        copyto!(Xr8,reinterpret(UInt8,vec(temp)))\n",
    "        cfs_zstd_vertical100[i] = 2*sizeof(temp)/sizeof(transcode(ZstdCompressorL10,Xr8))\n",
    "        print(\"z\")\n",
    "        print(\"$(Int(round(cfs_zstd_vertical100[i])))\")\n",
    "\n",
    "    # load time step\n",
    "    ncfile = NetCDF.open(joinpath(path,\"member1\",\"ensemble.t.member1.step$i.ll.nc\"))\n",
    "    temp = ncfile.vars[\"t\"][:,:,:]\n",
    "    print(\"L\")\n",
    "    \n",
    "    # 99% information\n",
    "        # LONGITUDE no permutation of dimensions\n",
    "        round!(temp,keepbits99)\n",
    "        copyto!(Xr8,reinterpret(UInt8,vec(temp)))\n",
    "        cfs_zstd_longitude99[i] = 2*sizeof(temp)/sizeof(transcode(ZstdCompressorL10,Xr8))\n",
    "        print(\"x\")\n",
    "        print(\"$(Int(round(cfs_zstd_longitude99[i])))\")\n",
    "\n",
    "        # LATITUDE\n",
    "        temp = permutedims(temp,[2,1,3])   # put latitude first\n",
    "        copyto!(Xr8,reinterpret(UInt8,vec(temp)))\n",
    "        cfs_zstd_latitude99[i] = 2*sizeof(temp)/sizeof(transcode(ZstdCompressorL10,Xr8))\n",
    "        print(\"y\")\n",
    "        print(\"$(Int(round(cfs_zstd_latitude99[i])))\")\n",
    "\n",
    "        # VERTICAL\n",
    "        temp = permutedims(temp,[3,1,2])   # put vertical first\n",
    "        copyto!(Xr8,reinterpret(UInt8,vec(temp)))\n",
    "        cfs_zstd_vertical99[i] = 2*sizeof(temp)/sizeof(transcode(ZstdCompressorL10,Xr8))\n",
    "        print(\"z\")\n",
    "        print(\"$(Int(round(cfs_zstd_vertical99[i]))),\")\n",
    "end"
   ]
  },
  {
   "cell_type": "code",
   "execution_count": 13,
   "metadata": {},
   "outputs": [
    {
     "data": {
      "text/plain": [
       "((24.14394067496715, 25.238603988680115), (5.651851313972051, 5.708511428415024))"
      ]
     },
     "execution_count": 13,
     "metadata": {},
     "output_type": "execute_result"
    }
   ],
   "source": [
    "extrema(cfs_zstd_longitude99),extrema(cfs_zstd_longitude100)"
   ]
  },
  {
   "cell_type": "code",
   "execution_count": 14,
   "metadata": {},
   "outputs": [
    {
     "data": {
      "text/plain": [
       "((21.280285198657985, 22.46372232887383), (4.993114387341262, 5.020984025015853))"
      ]
     },
     "execution_count": 14,
     "metadata": {},
     "output_type": "execute_result"
    }
   ],
   "source": [
    "extrema(cfs_zstd_latitude99),extrema(cfs_zstd_latitude100)"
   ]
  },
  {
   "cell_type": "code",
   "execution_count": 15,
   "metadata": {},
   "outputs": [
    {
     "data": {
      "text/plain": [
       "((13.551092036855257, 14.138523111310844), (4.249531810033125, 4.255366954371934))"
      ]
     },
     "execution_count": 15,
     "metadata": {},
     "output_type": "execute_result"
    }
   ],
   "source": [
    "extrema(cfs_zstd_vertical99),extrema(cfs_zstd_vertical100)"
   ]
  },
  {
   "cell_type": "code",
   "execution_count": 14,
   "metadata": {},
   "outputs": [
    {
     "data": {
      "text/plain": [
       "6-element Vector{Symbol}:\n",
       " :cfs_zstd_longitude99\n",
       " :cfs_zstd_longitude100\n",
       " :cfs_zstd_latitude99\n",
       " :cfs_zstd_latitude100\n",
       " :cfs_zstd_vertical99\n",
       " :cfs_zstd_vertical100"
      ]
     },
     "execution_count": 14,
     "metadata": {},
     "output_type": "execute_result"
    }
   ],
   "source": [
    "# @save joinpath(path,\"analysis\",\"compressfac_zstd_1d_space.jld2\") cfs_zstd_longitude99 cfs_zstd_longitude100 cfs_zstd_latitude99 cfs_zstd_latitude100 cfs_zstd_vertical99 cfs_zstd_vertical100 \n",
    "@load joinpath(path,\"analysis\",\"compressfac_zstd_1d_space.jld2\") cfs_zstd_longitude99 cfs_zstd_longitude100 cfs_zstd_latitude99 cfs_zstd_latitude100 cfs_zstd_vertical99 cfs_zstd_vertical100 "
   ]
  },
  {
   "cell_type": "code",
   "execution_count": 19,
   "metadata": {},
   "outputs": [
    {
     "name": "stdout",
     "output_type": "stream",
     "text": [
      "1Lt5t18,6Lt5t18,11Lt5t16,16Lt5t15,21Lt5t18,26Lt5t21,31Lt5t21,36Lt5t20,41Lt5t22,46Lt5t24,51Lt5t23,56Lt5t25,61Lt5t27,66Lt6t29,71Lt6t32,76Lt6t27,81Lt6t27,86Lt6t28,91Lt6t27,"
     ]
    }
   ],
   "source": [
    "# TIME\n",
    "sub = 5\n",
    "Nsteps1h = 91\n",
    "Nvert_sub = collect(1:sub:Nvert)\n",
    "cfs_zstd_time99 = fill(0.0,length(Nvert_sub))\n",
    "cfs_zstd_time100 = fill(0.0,length(Nvert_sub))\n",
    "\n",
    "for (i,iv) in enumerate(Nvert_sub)\n",
    "    print(\"$iv\")\n",
    "    \n",
    "    temp = fill(0f0,Nsteps1h,Nlon,Nlat)\n",
    "    \n",
    "    for it in 1:Nsteps1h\n",
    "        t = steps[it]\n",
    "        \n",
    "        # load time step\n",
    "        ncfile = NetCDF.open(joinpath(path,\"member1\",\"ensemble.t.member1.step$t.ll.nc\"))\n",
    "        temp[it,:,:] = ncfile.vars[\"t\"][:,:,iv]\n",
    "    end\n",
    "    print(\"L\")\n",
    "    \n",
    "    # no permutation of dimensions\n",
    "    round!(temp,keepbits100)\n",
    "    Xr8 = copy(reinterpret(UInt8,vec(temp)))\n",
    "    cfs_zstd_time100[i] = 2*sizeof(temp)/sizeof(transcode(ZstdCompressorL10,Xr8))\n",
    "    print(\"t\")\n",
    "    print(\"$(Int(round(cfs_zstd_time100[i])))\")\n",
    "    \n",
    "    round!(temp,keepbits99)\n",
    "    copyto!(Xr8,reinterpret(UInt8,vec(temp)))\n",
    "    cfs_zstd_time99[i] = 2*sizeof(temp)/sizeof(transcode(ZstdCompressorL10,Xr8))\n",
    "    print(\"t\")\n",
    "    print(\"$(Int(round(cfs_zstd_time99[i]))),\")\n",
    "end"
   ]
  },
  {
   "cell_type": "code",
   "execution_count": null,
   "metadata": {
    "scrolled": true
   },
   "outputs": [],
   "source": [
    "extrema(cfs_zstd_time99),extrema(cfs_zstd_time100)"
   ]
  },
  {
   "cell_type": "code",
   "execution_count": 15,
   "metadata": {},
   "outputs": [
    {
     "data": {
      "text/plain": [
       "2-element Vector{Symbol}:\n",
       " :cfs_zstd_time99\n",
       " :cfs_zstd_time100"
      ]
     },
     "execution_count": 15,
     "metadata": {},
     "output_type": "execute_result"
    }
   ],
   "source": [
    "# @save joinpath(path,\"analysis\",\"compressfac_zstd_time.jld2\") cfs_zstd_time99 cfs_zstd_time100\n",
    "@load joinpath(path,\"analysis\",\"compressfac_zstd_time.jld2\") cfs_zstd_time99 cfs_zstd_time100"
   ]
  },
  {
   "cell_type": "code",
   "execution_count": null,
   "metadata": {},
   "outputs": [],
   "source": [
    "# ENSEMBLE\n",
    "sub = 20\n",
    "Nvert_sub = collect(1:sub:Nvert)\n",
    "Ntsteps = collect(1:20:140)\n",
    "cfs_zstd_ens99 = fill(0.0,length(Ntsteps))\n",
    "cfs_zstd_ens100 = fill(0.0,length(Ntsteps))\n",
    "\n",
    "for (it,tstep) in enumerate(Ntsteps)\n",
    "    print(\"$it\")\n",
    "    s = steps[it]\n",
    "    \n",
    "    temp = fill(0f0,Nens,Nlon,Nlat,length(Nvert_sub))\n",
    "    \n",
    "    for ie in 1:Nens        \n",
    "        # load ensemble member\n",
    "        ncfile = NetCDF.open(joinpath(path,\"member$ie\",\"ensemble.t.member$ie.step$s.ll.nc\"))\n",
    "        temp[ie,:,:,:] = ncfile.vars[\"t\"][:,:,Nvert_sub]\n",
    "    end\n",
    "    print(\"L\")\n",
    "    \n",
    "    # no permutation of dimensions\n",
    "    round!(temp,keepbits100)\n",
    "    Xr8 = copy(reinterpret(UInt8,vec(temp)))\n",
    "    cfs_zstd_ens100[it] = 2*sizeof(temp)/sizeof(transcode(ZstdCompressorL10,Xr8))\n",
    "    print(\"t\")\n",
    "    \n",
    "    round!(temp,keepbits99)\n",
    "    Xr8 = copy(reinterpret(UInt8,vec(temp)))\n",
    "    cfs_zstd_ens99[it] = 2*sizeof(temp)/sizeof(transcode(ZstdCompressorL10,Xr8))\n",
    "    print(\"t,\")\n",
    "end"
   ]
  },
  {
   "cell_type": "code",
   "execution_count": null,
   "metadata": {
    "scrolled": true
   },
   "outputs": [],
   "source": [
    "extrema(cfs_zstd_ens99),extrema(cfs_zstd_ens100)"
   ]
  },
  {
   "cell_type": "code",
   "execution_count": 16,
   "metadata": {},
   "outputs": [
    {
     "data": {
      "text/plain": [
       "2-element Vector{Symbol}:\n",
       " :cfs_zstd_ens99\n",
       " :cfs_zstd_ens100"
      ]
     },
     "execution_count": 16,
     "metadata": {},
     "output_type": "execute_result"
    }
   ],
   "source": [
    "# @save joinpath(path,\"analysis\",\"compressfac_zstd_ens.jld2\") cfs_zstd_ens99 cfs_zstd_ens100 \n",
    "@load joinpath(path,\"analysis\",\"compressfac_zstd_ens.jld2\") cfs_zstd_ens99 cfs_zstd_ens100 "
   ]
  },
  {
   "cell_type": "markdown",
   "metadata": {},
   "source": [
    "## Calculate means and uncertainties"
   ]
  },
  {
   "cell_type": "code",
   "execution_count": 53,
   "metadata": {},
   "outputs": [
    {
     "data": {
      "text/plain": [
       "5-element Vector{String}:\n",
       " \"Longitude 1D\"\n",
       " \"Latitude 1D\"\n",
       " \"Vertical 1D\"\n",
       " \"Time 1D\"\n",
       " \"Ensemble 1D\""
      ]
     },
     "execution_count": 53,
     "metadata": {},
     "output_type": "execute_result"
    }
   ],
   "source": [
    "cfs_basic = [1,8/3,4]   # compression factors for uncompressed, 24-bit and 16-bit\n",
    "labels_basic = [\"No compression, any dimensions\",\"LinQuant24, any dimensions\",\"LogQuant16, any dimensions\"]\n",
    "labels_basic2 = [\"No compression\",\"LinQuant24\",\"LogQuant16\"]\n",
    "\n",
    "\n",
    "geometric_mean(x::Vector) = inv(mean(inv.(x)))\n",
    "\n",
    "# ZSTANDARD\n",
    "cfs_zstd99 = [geometric_mean(cfs_zstd_longitude99),    # 99% information\n",
    "            geometric_mean(cfs_zstd_latitude99),\n",
    "            geometric_mean(cfs_zstd_vertical99),\n",
    "            geometric_mean(cfs_zstd_time99),\n",
    "            geometric_mean(cfs_zstd_ens99)]\n",
    "\n",
    "cfs_zstd100 = [geometric_mean(cfs_zstd_longitude100),    # 100% information\n",
    "            geometric_mean(cfs_zstd_latitude100),\n",
    "            geometric_mean(cfs_zstd_vertical100),\n",
    "            geometric_mean(cfs_zstd_time100),\n",
    "            geometric_mean(cfs_zstd_ens100)]\n",
    "\n",
    "cfs_zstd99min = [minimum(cfs_zstd_longitude99),\n",
    "            minimum(cfs_zstd_latitude99),\n",
    "            minimum(cfs_zstd_vertical99),\n",
    "            minimum(cfs_zstd_time99),\n",
    "            minimum(cfs_zstd_ens99)]\n",
    "\n",
    "cfs_zstd100min = [minimum(cfs_zstd_longitude100),\n",
    "            minimum(cfs_zstd_latitude100),\n",
    "            minimum(cfs_zstd_vertical100),\n",
    "            minimum(cfs_zstd_time100),\n",
    "            minimum(cfs_zstd_ens100)]\n",
    "\n",
    "cfs_zstd99max = [maximum(cfs_zstd_longitude99),\n",
    "            maximum(cfs_zstd_latitude99),\n",
    "            maximum(cfs_zstd_vertical99),\n",
    "            maximum(cfs_zstd_time99),\n",
    "            maximum(cfs_zstd_ens99)]\n",
    "\n",
    "cfs_zstd100max = [maximum(cfs_zstd_longitude100),\n",
    "            maximum(cfs_zstd_latitude100),\n",
    "            maximum(cfs_zstd_vertical100),\n",
    "            maximum(cfs_zstd_time100),\n",
    "            maximum(cfs_zstd_ens100)]\n",
    "\n",
    "labels_zstd = [\"Longitude 1D\",\"Latitude 1D\",\n",
    "                \"Vertical 1D\",\"Time 1D\",\"Ensemble 1D\"]"
   ]
  },
  {
   "cell_type": "code",
   "execution_count": 54,
   "metadata": {},
   "outputs": [
    {
     "data": {
      "text/plain": [
       "5-element Vector{String}:\n",
       " \"Horizontal 2D\"\n",
       " \"Horizontal+Vertical 3D\"\n",
       " \"Horizontal+Time 3D\"\n",
       " \"Space+Time 4D\"\n",
       " \"Space+Ensemble 4D\""
      ]
     },
     "execution_count": 54,
     "metadata": {},
     "output_type": "execute_result"
    }
   ],
   "source": [
    "# ZFP COMPRESSION\n",
    "cfs_zfp99 = [geometric_mean(cfs_zfp_2d_hori_all99),    # 99% information\n",
    "             geometric_mean(cfs_zfp_3d_space_all99),\n",
    "             geometric_mean(cfs_zfp_3d_horitime_all99),\n",
    "             geometric_mean(cfs_zfp_4d_spacetime99),\n",
    "             geometric_mean(cfs_zfp_4d_ensemble99)]\n",
    "\n",
    "cfs_zfp100 = [geometric_mean(cfs_zfp_2d_hori_all100),    # 100% information\n",
    "             geometric_mean(cfs_zfp_3d_space_all100),\n",
    "             geometric_mean(cfs_zfp_3d_horitime_all100),\n",
    "             geometric_mean(cfs_zfp_4d_spacetime100),\n",
    "             geometric_mean(cfs_zfp_4d_ensemble100)]\n",
    "\n",
    "\n",
    "cfs_zfp99min = [minimum(cfs_zfp_2d_hori_all99),    # 99% information\n",
    "             minimum(cfs_zfp_3d_space_all99),\n",
    "             minimum(cfs_zfp_3d_horitime_all99),\n",
    "             minimum(cfs_zfp_4d_spacetime99),\n",
    "             minimum(cfs_zfp_4d_ensemble99)]\n",
    "\n",
    "cfs_zfp100min = [minimum(cfs_zfp_2d_hori_all100),    # 100% information\n",
    "             minimum(cfs_zfp_3d_space_all100),\n",
    "             minimum(cfs_zfp_3d_horitime_all100),\n",
    "             minimum(cfs_zfp_4d_spacetime100),\n",
    "             minimum(cfs_zfp_4d_ensemble100)]\n",
    "\n",
    "cfs_zfp99max = [maximum(cfs_zfp_2d_hori_all99),    # 99% information\n",
    "             maximum(cfs_zfp_3d_space_all99),\n",
    "             maximum(cfs_zfp_3d_horitime_all99),\n",
    "             maximum(cfs_zfp_4d_spacetime99),\n",
    "             maximum(cfs_zfp_4d_ensemble99)]\n",
    "\n",
    "cfs_zfp100max = [maximum(cfs_zfp_2d_hori_all100),    # 100% information\n",
    "             maximum(cfs_zfp_3d_space_all100),\n",
    "             maximum(cfs_zfp_3d_horitime_all100),\n",
    "             maximum(cfs_zfp_4d_spacetime100),\n",
    "             maximum(cfs_zfp_4d_ensemble100)]\n",
    "labels_zfp = [\"Horizontal 2D\",\"Horizontal+Vertical 3D\",\n",
    "                \"Horizontal+Time 3D\",\"Space+Time 4D\",\"Space+Ensemble 4D\"]"
   ]
  },
  {
   "cell_type": "markdown",
   "metadata": {},
   "source": [
    "## PLOTTING"
   ]
  },
  {
   "cell_type": "code",
   "execution_count": 55,
   "metadata": {
    "scrolled": false
   },
   "outputs": [
    {
     "data": {
      "image/png": "[encoded data removed]",
      "text/plain": [
       "Figure(PyObject <Figure size 800x500 with 1 Axes>)"
      ]
     },
     "metadata": {},
     "output_type": "display_data"
    }
   ],
   "source": [
    "fig,ax1 = subplots(1,1,figsize=(8,5),sharex=true)\n",
    "\n",
    "alfa = 0.5\n",
    "alfa2 = 0.3\n",
    "xmax = 100\n",
    "color1 = \"teal\"\n",
    "color2 = \"C1\"\n",
    "\n",
    "i = 1.0\n",
    "for (cf,label) in zip(cfs_basic,labels_basic)\n",
    "    ax1.barh(i,cf,color=\"k\",alpha=alfa)\n",
    "    ax1.text(xmax-2,i,label,ha=\"right\",va=\"center\")\n",
    "    ax1.text(cf+1,i,string(round(Int,cf))*\"x\",ha=\"left\",va=\"center\")\n",
    "    i += 1\n",
    "end\n",
    "\n",
    "ax1.axhline(i-.3,color=\"k\",alpha=.2)\n",
    "ax1.text(40,i-.1,\"1-dimensional compression: Round+lossless\",va=\"top\",color=color1,fontweight=\"bold\")\n",
    "i += 1.5\n",
    "\n",
    "ax1.text(1,i-0.5,\"Information\\n100%\",color=color1,fontweight=\"bold\",fontsize=8)\n",
    "ax1.text(21,i-0.5,\"99%\",color=color1,fontweight=\"bold\",fontsize=8,alpha=alfa)\n",
    "\n",
    "for (cf99,cf99min,cf99max,cf100,label) in zip(\n",
    "        cfs_zstd99,cfs_zstd99min,cfs_zstd99max,cfs_zstd100,labels_zstd)\n",
    "    ax1.barh(i,cf99,color=color1,alpha=alfa)\n",
    "    ax1.barh(i,cf100,color=color1,alpha=alfa)\n",
    "#     ax1.plot(cf99min,i,color=color1,marker=L\"$\\vdash$\",alpha=alfa)\n",
    "#     ax1.plot(cf99max,i,color=color1,marker=L\"$\\dashv$\",alpha=alfa)\n",
    "    ax1.plot([cf99max,cf99min],[i,i],\"--\",color=color1,marker=L\"$\\vert$\",alpha=alfa)\n",
    "    offset = cf99max-cf99 > 3 ? .3 : cf99max-cf99+1.5\n",
    "    ax1.text(xmax-2,i,label,ha=\"right\",va=\"center\")\n",
    "    ax1.text(cf99+offset,i,string(round(Int,cf99))*\"x\",ha=\"left\",va=\"center\")\n",
    "    ax1.text(cf100+1,i,string(round(Int,cf100))*\"x\",color=color1,ha=\"left\",va=\"center\",fontweight=\"bold\")\n",
    "    i += 1\n",
    "end\n",
    "\n",
    "ax1.axhline(i-.3,color=\"k\",alpha=.2)\n",
    "ax1.text(40,i-.1,\"Multi-dimensional compression: Zfp\",va=\"top\",color=color2,fontweight=\"bold\")\n",
    "i += 1.5\n",
    "\n",
    "ax1.text(1,i-0.5,\"Information\\n100%\",color=color2,fontweight=\"bold\",fontsize=8)\n",
    "ax1.text(18,i-0.5,\"99%\",color=color2,fontweight=\"bold\",fontsize=8,alpha=alfa)\n",
    "\n",
    "for (cf99,cf99min,cf99max,cf100,label) in zip(\n",
    "        cfs_zfp99,cfs_zfp99min,cfs_zfp99max,cfs_zfp100,labels_zfp)\n",
    "    ax1.barh(i,cf99,color=color2,alpha=alfa)\n",
    "    ax1.barh(i,cf100,color=color2,alpha=alfa)\n",
    "#     ax1.plot(cf99min,i,color=color2,marker=L\"$\\vdash$\",alpha=alfa)\n",
    "#     ax1.plot(cf99max,i,color=color2,marker=L\"$\\dashv$\",alpha=alfa)\n",
    "    ax1.plot([cf99max,cf99min],[i,i],\"--\",color=color2,marker=L\"$\\vert$\",alpha=alfa)\n",
    "    offset = cf99max-cf99 > 3 ? .3 : cf99max-cf99+1.5\n",
    "    ax1.text(xmax-2,i-.25,label,ha=\"right\",va=\"center\")\n",
    "    ax1.text(cf99+offset,i,string(round(Int,cf99))*\"x\",ha=\"left\",va=\"center\")\n",
    "    ax1.text(cf100+1,i,string(round(Int,cf100))*\"x\",ha=\"left\",va=\"center\",color=color2,fontweight=\"bold\")\n",
    "    i += 1\n",
    "end\n",
    "\n",
    "ax1.xaxis.set_major_formatter(ticker.FormatStrFormatter(\"%dx\"))\n",
    "ax1.invert_yaxis()\n",
    "ax1.set_yticks([])\n",
    "ax1.set_xlim(0,xmax)\n",
    "ax1.set_xlabel(\"Compression factor\")\n",
    "# ax1.set_title(\"Compressing temperature's real information in different dimensions\",loc=\"left\")\n",
    "ax1.grid(alpha=0.1)\n",
    "\n",
    "tight_layout()\n",
    "savefig(\"compressfac_comparison.png\",dpi=200)\n",
    "savefig(\"compressfac_comparison.pdf\")"
   ]
  },
  {
   "cell_type": "markdown",
   "metadata": {},
   "source": [
    "# Output"
   ]
  },
  {
   "cell_type": "code",
   "execution_count": 40,
   "metadata": {},
   "outputs": [],
   "source": [
    "using DataFrames, CSV"
   ]
  },
  {
   "cell_type": "code",
   "execution_count": 56,
   "metadata": {},
   "outputs": [
    {
     "data": {
      "text/plain": [
       "\"Fig5_compressionfactor_data.csv\""
      ]
     },
     "execution_count": 56,
     "metadata": {},
     "output_type": "execute_result"
    }
   ],
   "source": [
    "C1 = Float32.(cat(cfs_basic,cfs_zstd100,cfs_zfp100,dims=1))\n",
    "C2 = Float32.(cat(cfs_basic,cfs_zstd99,cfs_zfp99,dims=1))\n",
    "C3 = Float32.(cat(cfs_basic,cfs_zstd99min,cfs_zfp99min,dims=1))\n",
    "C4 = Float32.(cat(cfs_basic,cfs_zstd99max,cfs_zfp99max,dims=1))\n",
    "labels_all = cat(labels_basic2,labels_zstd,labels_zfp,dims=1)\n",
    "C = cat(labels_all,C1,C2,C3,C4,dims=2)\n",
    "\n",
    "columns = [\"Compression\",\"100% information\",\"99% information\",\"99% information min\",\"99% information max\"]\n",
    "df = DataFrame(C,columns)\n",
    "CSV.write(\"Fig5_compressionfactor_data.csv\",df)"
   ]
  },
  {
   "cell_type": "code",
   "execution_count": null,
   "metadata": {},
   "outputs": [],
   "source": []
  }
 ],
 "metadata": {
  "@webio": {
   "lastCommId": null,
   "lastKernelId": null
  },
  "kernelspec": {
   "display_name": "Julia 1.6.0",
   "language": "julia",
   "name": "julia-1.6"
  },
  "language_info": {
   "file_extension": ".jl",
   "mimetype": "application/julia",
   "name": "julia",
   "version": "1.6.0"
  }
 },
 "nbformat": 4,
 "nbformat_minor": 4
}
