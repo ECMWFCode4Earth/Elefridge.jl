{
 "cells": [
  {
   "cell_type": "code",
   "execution_count": 1,
   "metadata": {},
   "outputs": [],
   "source": [
    "using PyCall, PyPlot\n",
    "using JLD2, FileIO, NetCDF\n",
    "using Elefridge, StatsBase, Statistics\n",
    "using ZfpCompression, TranscodingStreams, CodecZstd\n",
    "\n",
    "ticker = pyimport(\"matplotlib.ticker\");\n",
    "\n",
    "ZstdCompressorL3 = ZstdCompressor(level=3)\n",
    "TranscodingStreams.initialize(ZstdCompressorL3)\n",
    "\n",
    "ZstdCompressorL10 = ZstdCompressor(level=10)\n",
    "TranscodingStreams.initialize(ZstdCompressorL10)\n",
    "\n",
    "ZstdCompressorL22 = ZstdCompressor(level=22)\n",
    "TranscodingStreams.initialize(ZstdCompressorL22)"
   ]
  },
  {
   "cell_type": "code",
   "execution_count": 2,
   "metadata": {},
   "outputs": [],
   "source": [
    "path = \"/network/aopp/chaos/pred/kloewer/esowc/\"\n",
    "member1files = filter(x->endswith(x,\".nc\"),readdir(joinpath(path,\"member1\")))\n",
    "steps = [parse(Int,split(split(file,\"step\")[2],\".\")[1]) for file in member1files]\n",
    "sort!(steps)\n",
    "\n",
    "ncfile = NetCDF.open(joinpath(path,\"member1\",\"ensemble.t.member1.step0.ll.nc\"))\n",
    "temp = ncfile.vars[\"t\"][:,:,:];"
   ]
  },
  {
   "cell_type": "code",
   "execution_count": 3,
   "metadata": {},
   "outputs": [
    {
     "data": {
      "text/plain": [
       "(1800, 901, 91)"
      ]
     },
     "execution_count": 3,
     "metadata": {},
     "output_type": "execute_result"
    }
   ],
   "source": [
    "Nens = 25\n",
    "Nbytes = 4   # 4 bytes for float32\n",
    "Nsteps = length(steps)\n",
    "Nlon,Nlat,Nvert = size(temp)"
   ]
  },
  {
   "cell_type": "markdown",
   "metadata": {},
   "source": [
    "## 1. ZFP: Compress only horizontal 2D"
   ]
  },
  {
   "cell_type": "code",
   "execution_count": 4,
   "metadata": {
    "scrolled": true
   },
   "outputs": [
    {
     "name": "stdout",
     "output_type": "stream",
     "text": [
      "1,2,3,4,5,6,7,8,9,10,11,12,13,14,15,16,17,18,19,20,21,22,23,24,25,26,27,28,29,30,31,32,33,34,35,36,37,38,39,40,41,42,43,44,45,46,47,48,49,50,51,52,53,54,55,56,57,58,59,60,61,62,63,64,65,66,67,68,69,70,71,72,73,74,75,76,77,78,79,80,81,82,83,84,85,86,87,88,89,90,91,"
     ]
    }
   ],
   "source": [
    "cfs_zfp_2d_hori_all = fill(0.0,Nvert)\n",
    "ori_size = Nlon*Nlat*Nbytes*2   # relative to Float64\n",
    "\n",
    "for iv in 1:Nvert\n",
    "    print(\"$iv,\")\n",
    "    s = steps[rand(1:Nsteps)]    # pick a random time step\n",
    "    m = rand(1:Nens)             # pick a random ensemble member\n",
    "    \n",
    "    # load file\n",
    "    ncfile = NetCDF.open(joinpath(path,\"member$m\",\"ensemble.t.member$m.step$s.ll.nc\"))\n",
    "    temp = ncfile.vars[\"t\"][:,:,iv];\n",
    "    \n",
    "    # compress only vertical level\n",
    "    cfs_zfp_2d_hori_all[iv] = ori_size/sizeof(zfp_compress(temp,precision=13))\n",
    "end"
   ]
  },
  {
   "cell_type": "markdown",
   "metadata": {},
   "source": [
    "## 2. ZFP: Compress spatial 3D"
   ]
  },
  {
   "cell_type": "code",
   "execution_count": 5,
   "metadata": {},
   "outputs": [
    {
     "name": "stdout",
     "output_type": "stream",
     "text": [
      "1,2,3,4,5,6,7,8,9,10,11,12,13,14,15,16,17,18,19,20,21,22,23,24,25,"
     ]
    }
   ],
   "source": [
    "cfs_zfp_3d_space_all = fill(0.0,Nens)\n",
    "ori_size = Nlon*Nlat*Nvert*Nbytes*2   # relative to Float64\n",
    "\n",
    "for ie in 1:Nens\n",
    "    print(\"$ie,\")\n",
    "    s = steps[rand(1:Nsteps)] # pick a random time step\n",
    "    \n",
    "    # load member ie\n",
    "    ncfile = NetCDF.open(joinpath(path,\"member$ie\",\"ensemble.t.member$ie.step$s.ll.nc\"))\n",
    "    temp = ncfile.vars[\"t\"][:,:,:];\n",
    "    \n",
    "    # compress the 3d field\n",
    "    cfs_zfp_3d_space_all[ie] = ori_size/sizeof(zfp_compress(temp,precision=13))\n",
    "end"
   ]
  },
  {
   "cell_type": "markdown",
   "metadata": {},
   "source": [
    "## 3. ZFP: Compress horizontal + time 3D"
   ]
  },
  {
   "cell_type": "code",
   "execution_count": 6,
   "metadata": {},
   "outputs": [
    {
     "name": "stdout",
     "output_type": "stream",
     "text": [
      "1,2,3,4,5,6,7,8,9,10,11,12,13,14,15,16,17,18,19,20,21,22,23,24,25,26,27,28,29,30,31,32,33,34,35,36,37,38,39,40,41,42,43,44,45,46,47,48,49,50,51,52,53,54,55,56,57,58,59,60,61,62,63,64,65,66,67,68,69,70,71,72,73,74,75,76,77,78,79,80,81,82,83,84,85,86,87,88,89,90,91,"
     ]
    }
   ],
   "source": [
    "cfs_zfp_3d_horitime_all = fill(0.0,Nvert)\n",
    "Nsteps1h = 91                             # there are 91 steps with dt=1h\n",
    "ori_size = Nlon*Nlat*Nbytes*2*Nsteps1h    # relative to Float64\n",
    "\n",
    "for iv in 1:Nvert\n",
    "    print(\"$iv,\")\n",
    "    temp = fill(0.0,Nlon,Nlat,Nsteps1h)\n",
    "    \n",
    "    for i in 1:Nsteps1h\n",
    "        t = steps[i]\n",
    "        \n",
    "        # load time steps\n",
    "        ncfile = NetCDF.open(joinpath(path,\"member1\",\"ensemble.t.member1.step$t.ll.nc\"))\n",
    "        temp[:,:,i] = ncfile.vars[\"t\"][:,:,iv];\n",
    "    end\n",
    "    \n",
    "    cfs_zfp_3d_horitime_all[iv] = ori_size/sizeof(zfp_compress(temp,precision=13))\n",
    "end"
   ]
  },
  {
   "cell_type": "markdown",
   "metadata": {},
   "source": [
    "## 4. ZFP: Compress in space and time"
   ]
  },
  {
   "cell_type": "code",
   "execution_count": 7,
   "metadata": {
    "scrolled": true
   },
   "outputs": [
    {
     "name": "stdout",
     "output_type": "stream",
     "text": [
      "1LX 96,2LX 102,3LX 106,4LX 110,5LX 178,6LX 180,7LX 182,8LX 183,9LX 183,10LX 183,11LX 184,"
     ]
    }
   ],
   "source": [
    "chunksize = 8\n",
    "Nsteps1h = 91                              # there are 91 steps with dt=1h\n",
    "Nchunks = Nsteps1h÷chunksize               # compress in chunks of 4 time steps\n",
    "cfs_zfp_4d_spacetime = fill(0.0,Nchunks)\n",
    "ori_size = Nlon*Nlat*Nvert*Nbytes*2*chunksize      # relative to Float64\n",
    "\n",
    "for ic in 1:Nchunks\n",
    "    print(\"$ic\")\n",
    "    \n",
    "    temp = fill(0f0,Nlon,Nlat,Nvert,chunksize)\n",
    "    for i in 1:chunksize\n",
    "        s = steps[(ic-1)*chunksize+i]\n",
    "        ncfile = NetCDF.open(joinpath(path,\"member1\",\"ensemble.t.member1.step$s.ll.nc\"))\n",
    "        temp[:,:,:,i] = ncfile.vars[\"t\"][:,:,:]\n",
    "    end\n",
    "    print(\"L\")\n",
    "    \n",
    "    if ic <= 4\n",
    "        precision = 13\n",
    "    else\n",
    "        precision = 12\n",
    "    end\n",
    "    \n",
    "    cf = ori_size/sizeof(zfp_compress(temp,precision=precision))\n",
    "    cfs_zfp_4d_spacetime[ic] = cf\n",
    "    print(\"X $(Int(round(cf))),\")\n",
    "end"
   ]
  },
  {
   "cell_type": "code",
   "execution_count": 9,
   "metadata": {
    "scrolled": true
   },
   "outputs": [
    {
     "data": {
      "text/plain": [
       "142.52773235136786"
      ]
     },
     "execution_count": 9,
     "metadata": {},
     "output_type": "execute_result"
    }
   ],
   "source": [
    "1 ./ mean(1 ./ cfs_zfp_4d_spacetime)"
   ]
  },
  {
   "cell_type": "markdown",
   "metadata": {},
   "source": [
    "## 5. ZSTD COMPRESS ALONG VARIOUS DIMENSIONS"
   ]
  },
  {
   "cell_type": "code",
   "execution_count": 36,
   "metadata": {
    "scrolled": true
   },
   "outputs": [
    {
     "name": "stdout",
     "output_type": "stream",
     "text": [
      "1Lxyz,2Lxyz,3Lxyz,4Lxyz,5Lxyz,6Lxyz,7Lxyz,8Lxyz,9Lxyz,10Lxyz,11Lxyz,12Lxyz,13Lxyz,14Lxyz,15Lxyz,16Lxyz,17Lxyz,18Lxyz,19Lxyz,20Lxyz,21Lxyz,22Lxyz,23Lxyz,24Lxyz,25Lxyz,26Lxyz,27Lxyz,28Lxyz,29Lxyz,30Lxyz,31Lxyz,32Lxyz,33Lxyz,34Lxyz,35Lxyz,36Lxyz,37Lxyz,38Lxyz,39Lxyz,40Lxyz,41Lxyz,42Lxyz,43Lxyz,44Lxyz,45Lxyz,46Lxyz,47Lxyz,48Lxyz,49Lxyz,50Lxyz,51Lxyz,52Lxyz,53Lxyz,54Lxyz,55Lxyz,56Lxyz,57Lxyz,58Lxyz,59Lxyz,60Lxyz,61Lxyz,62Lxyz,63Lxyz,64Lxyz,65Lxyz,66Lxyz,67Lxyz,68Lxyz,69Lxyz,70Lxyz,71Lxyz,72Lxyz,73Lxyz,74Lxyz,75Lxyz,76Lxyz,77Lxyz,78Lxyz,79Lxyz,80Lxyz,81Lxyz,82Lxyz,83Lxyz,84Lxyz,85Lxyz,86Lxyz,87Lxyz,88Lxyz,89Lxyz,90Lxyz,91Lxyz,92Lxyz,93Lxyz,94Lxyz,95Lxyz,96Lxyz,97Lxyz,98Lxyz,99Lxyz,100Lxyz,101Lxyz,102Lxyz,103Lxyz,104Lxyz,105Lxyz,106Lxyz,107Lxyz,108Lxyz,109Lxyz,110Lxyz,111Lxyz,112Lxyz,113Lxyz,114Lxyz,115Lxyz,116Lxyz,117Lxyz,118Lxyz,119Lxyz,120Lxyz,121Lxyz,122Lxyz,123Lxyz,124Lxyz,125Lxyz,126Lxyz,127Lxyz,128Lxyz,129Lxyz,130Lxyz,131Lxyz,132Lxyz,133Lxyz,134Lxyz,135Lxyz,136Lxyz,137Lxyz,138Lxyz,139Lxyz,140Lxyz,141Lxyz,142Lxyz,143Lxyz,144Lxyz,145Lxyz,"
     ]
    }
   ],
   "source": [
    "# LONGITUDE, LATITUDE, VERTICAL\n",
    "cfs_zstd_longitude = fill(0.0,Nsteps)\n",
    "cfs_zstd_latitude = fill(0.0,Nsteps)\n",
    "cfs_zstd_vertical = fill(0.0,Nsteps)\n",
    "\n",
    "for i in 1:Nsteps\n",
    "    print(\"$i\")\n",
    "    t = steps[i]\n",
    "        \n",
    "    # load time step\n",
    "    ncfile = NetCDF.open(joinpath(path,\"member1\",\"ensemble.t.member1.step$t.ll.nc\"))\n",
    "    temp = ncfile.vars[\"t\"][:,:,:]\n",
    "    print(\"L\")\n",
    "    \n",
    "    # LONGITUDE no permutation of dimensions\n",
    "    round!(temp,7)\n",
    "    Xr8 = copy(reinterpret(UInt8,vec(temp)))\n",
    "    cfs_zstd_longitude[i] = 2*sizeof(temp)/sizeof(transcode(ZstdCompressorL10,Xr8))\n",
    "    print(\"x\")\n",
    "    \n",
    "    # LATITUDE\n",
    "    temp = permutedims(temp,[2,1,3])   # put latitude first\n",
    "    Xr8 = copy(reinterpret(UInt8,vec(temp)))\n",
    "    cfs_zstd_latitude[i] = 2*sizeof(temp)/sizeof(transcode(ZstdCompressorL10,Xr8))\n",
    "    print(\"y\")\n",
    "    \n",
    "    # VERTICAL\n",
    "    temp = permutedims(temp,[3,1,2])   # put vertical first\n",
    "    Xr8 = copy(reinterpret(UInt8,vec(temp)))\n",
    "    cfs_zstd_vertical[i] = 2*sizeof(temp)/sizeof(transcode(ZstdCompressorL10,Xr8))\n",
    "    print(\"z,\")\n",
    "end"
   ]
  },
  {
   "cell_type": "code",
   "execution_count": 8,
   "metadata": {},
   "outputs": [],
   "source": [
    "# save(joinpath(path,\"analysis/zstd_lonlatvert_compression.jld2\"),\n",
    "#                                         \"cfs_zstd_longitude\",cfs_zstd_longitude,\n",
    "#                                         \"cfs_zstd_latitude\",cfs_zstd_latitude,\n",
    "#                                         \"cfs_zstd_vertical\",cfs_zstd_vertical)\n",
    "cfs_zstd_longitude,cfs_zstd_latitude,cfs_zstd_vertical = \n",
    "load(joinpath(path,\"analysis/zstd_lonlatvert_compression.jld2\"),\n",
    "                                        \"cfs_zstd_longitude\",\n",
    "                                        \"cfs_zstd_latitude\",\n",
    "                                        \"cfs_zstd_vertical\");"
   ]
  },
  {
   "cell_type": "code",
   "execution_count": 11,
   "metadata": {},
   "outputs": [
    {
     "name": "stdout",
     "output_type": "stream",
     "text": [
      "1Lx 74, 2Lx 78, 3Lx 74, 4Lx 70, 5Lx 73, 6Lx 69, 7Lx 74, 8Lx 76, 9Lx 68, 10Lx 61, 11Lx 55, 12Lx 48, 13Lx 43, 14Lx 44, 15Lx 46, 16Lx 49, 17Lx 52, 18Lx 56, 19Lx 59, 20Lx 61, 21Lx 63, 22Lx 65, 23Lx 67, 24Lx 69, 25Lx 70, 26Lx 71, 27Lx 71, 28Lx 71, 29Lx 70, 30Lx 69, 31Lx 68, 32Lx 66, 33Lx 64, 34Lx 63, 35Lx 62, 36Lx 62, 37Lx 62, 38Lx 64, 39Lx 65, 40Lx 67, 41Lx 70, 42Lx 72, 43Lx 74, 44Lx 76, 45Lx 77, 46Lx 77, 47Lx 76, 48Lx 74, 49Lx 73, 50Lx 72, 51Lx 73, 52Lx 75, 53Lx 77, 54Lx 79, 55Lx 80, 56Lx 80, 57Lx 79, 58Lx 78, 59Lx 76, 60Lx 80, 61Lx 83, 62Lx 83, 63Lx 86, 64Lx 87, 65Lx 87, 66Lx 89, 67Lx 91, 68Lx 93, 69Lx 95, 70Lx 96, 71Lx 97, 72Lx 96, 73Lx 94, 74Lx 90, 75Lx 86, 76Lx 84, 77Lx 81, 78Lx 80, 79Lx 80, 80Lx 81, 81Lx 80, 82Lx 81, 83Lx 82, 84Lx 81, 85Lx 80, 86Lx 79, 87Lx 78, 88Lx 77, 89Lx 76, 90Lx 74, 91Lx 73, "
     ]
    }
   ],
   "source": [
    "# TIME\n",
    "cfs_zstd_time = fill(0.0,Nvert)\n",
    "\n",
    "for iv in 1:Nvert\n",
    "    print(\"$iv\")\n",
    "    \n",
    "    temp = fill(0f0,Nsteps1h,Nlon,Nlat)\n",
    "    \n",
    "    for it in 1:Nsteps1h\n",
    "        t = steps[it]\n",
    "        \n",
    "        # load time step\n",
    "        ncfile = NetCDF.open(joinpath(path,\"member1\",\"ensemble.t.member1.step$t.ll.nc\"))\n",
    "        temp[it,:,:] = ncfile.vars[\"t\"][:,:,iv]\n",
    "    end\n",
    "    print(\"L\")\n",
    "    \n",
    "    # TIME no permutation of dimensions\n",
    "    round!(temp,7)\n",
    "    Xr8 = copy(reinterpret(UInt8,vec(temp)))\n",
    "    cfs_zstd_time[iv] = 2*sizeof(temp)/sizeof(transcode(ZstdCompressorL10,Xr8))\n",
    "    print(\"x $(Int(round(cfs_zstd_time[iv]))), \")\n",
    "end"
   ]
  },
  {
   "cell_type": "code",
   "execution_count": 12,
   "metadata": {},
   "outputs": [
    {
     "data": {
      "text/plain": [
       "([64.04627863717498, 64.37443597758384, 65.14809778158097, 65.74456006729062, 66.2341648469009, 66.654198343899, 67.00161450983526, 67.29158411599848, 67.55680034027829, 67.75590734188984  …  67.96306161334388, 68.41229776781283, 68.71587145951176, 68.53600470308908, 68.63403350754851, 69.03169697631529, 69.11284028367126, 68.74399317779782, 68.7178748540033, 68.99594140118658], [51.12215470863034, 50.86321735210055, 50.948379773460296, 51.058938862179566, 51.12669271485767, 51.16440006837645, 51.19980912170186, 51.198267404766774, 51.13277346085722, 51.05768752949026  …  36.346169838860035, 36.34407503351631, 36.36924621204758, 36.32760140651101, 36.30781745586303, 36.30459248010197, 36.30809364359712, 36.24637544350319, 36.218595264158985, 36.239649227693484])"
      ]
     },
     "execution_count": 12,
     "metadata": {},
     "output_type": "execute_result"
    }
   ],
   "source": [
    "# ENSEMBLE\n",
    "cfs_zstd_ens, cfs_zfp_ens = load(joinpath(path,\"analysis/ensemble_compression_25members.jld2\"),\"Xzstd\",\"Xzfp\")"
   ]
  },
  {
   "cell_type": "markdown",
   "metadata": {},
   "source": [
    "## Calculate means and uncertainties"
   ]
  },
  {
   "cell_type": "code",
   "execution_count": 13,
   "metadata": {},
   "outputs": [
    {
     "data": {
      "text/plain": [
       "5-element Array{String,1}:\n",
       " \"Horizontal 2D\"\n",
       " \"Horizontal+Vertical 3D\"\n",
       " \"Horizontal+Time 3D\"\n",
       " \"Space+Time 4D\"\n",
       " \"Space+Ensemble 4D\""
      ]
     },
     "execution_count": 13,
     "metadata": {},
     "output_type": "execute_result"
    }
   ],
   "source": [
    "cfs_basic = [1,8/3,4]   # compression factors for uncompressed, 24-bit and 16-bit\n",
    "labels_basic = [\"No compression, any dimensions\",\"LinQuant24, any dimensions\",\"LogQuant16, any dimensions\"]\n",
    "\n",
    "# ZSTANDARD\n",
    "cfs_zstd = [1/mean(1.0 ./ cfs_zstd_longitude),    # geometric mean\n",
    "            1/mean(1.0 ./ cfs_zstd_latitude),\n",
    "            1/mean(1.0 ./ cfs_zstd_vertical),\n",
    "            1/mean(1.0 ./ cfs_zstd_time),\n",
    "            1/mean(1.0 ./ cfs_zstd_ens)]\n",
    "cfs_zstd5 = [1/minimum(1.0 ./ cfs_zstd_longitude),    # geometric\n",
    "            1/minimum(1.0 ./ cfs_zstd_latitude),\n",
    "            1/minimum(1.0 ./ cfs_zstd_vertical),\n",
    "            1/minimum(1.0 ./ cfs_zstd_time),\n",
    "            1/minimum(1.0 ./ cfs_zstd_ens)]\n",
    "cfs_zstd95 = [1/maximum(1.0 ./ cfs_zstd_longitude),    # geometric\n",
    "            1/maximum(1.0 ./ cfs_zstd_latitude),\n",
    "            1/maximum(1.0 ./ cfs_zstd_vertical),\n",
    "            1/maximum(1.0 ./ cfs_zstd_time),\n",
    "            1/maximum(1.0 ./ cfs_zstd_ens)]\n",
    "\n",
    "labels_zstd = [\"Longitude\",\"Latitude\",\n",
    "                \"Vertical\",\"Time\",\"Ensemble\"]\n",
    "\n",
    "# ZFP COMPRESSION\n",
    "cfs_zfp = [1/mean(1.0 ./ cfs_zfp_2d_hori_all),    # geometric mean\n",
    "           1/mean(1.0 ./ cfs_zfp_3d_space_all),\n",
    "           1/mean(1.0 ./ cfs_zfp_3d_horitime_all),\n",
    "           1/mean(1.0 ./ cfs_zfp_4d_spacetime),\n",
    "           1/mean(1.0 ./ cfs_zfp_ens)]\n",
    "cfs_zfp5 = [1/percentile(1.0 ./ cfs_zfp_2d_hori_all,5),    # geometric\n",
    "            1/percentile(1.0 ./ cfs_zfp_3d_space_all,5),\n",
    "            1/percentile(1.0 ./ cfs_zfp_3d_horitime_all,5),\n",
    "            1/percentile(1.0 ./ cfs_zfp_4d_spacetime,5),\n",
    "            1/percentile(1.0 ./ cfs_zfp_ens,5),]\n",
    "cfs_zfp95 = [1/percentile(1.0 ./ cfs_zfp_2d_hori_all,95),    # geometric\n",
    "            1/percentile(1.0 ./ cfs_zfp_3d_space_all,95),\n",
    "            1/percentile(1.0 ./ cfs_zfp_3d_horitime_all,95),\n",
    "            1/percentile(1.0 ./ cfs_zfp_4d_spacetime,95),\n",
    "            1/percentile(1.0 ./ cfs_zfp_ens,95),]\n",
    "labels_zfp = [\"Horizontal 2D\",\"Horizontal+Vertical 3D\",\n",
    "                \"Horizontal+Time 3D\",\"Space+Time 4D\",\"Space+Ensemble 4D\"]"
   ]
  },
  {
   "cell_type": "markdown",
   "metadata": {},
   "source": [
    "## PLOTTING"
   ]
  },
  {
   "cell_type": "code",
   "execution_count": 19,
   "metadata": {},
   "outputs": [
    {
     "data": {
      "image/png": "[encoded data removed]",
      "text/plain": [
       "Figure(PyObject <Figure size 800x500 with 1 Axes>)"
      ]
     },
     "metadata": {},
     "output_type": "display_data"
    }
   ],
   "source": [
    "# PLOT\n",
    "fig,ax1 = subplots(1,1,figsize=(8,5),sharex=true)\n",
    "\n",
    "alfa = 0.5\n",
    "alfa2 = 0.3\n",
    "xmax = 190\n",
    "\n",
    "i = 1\n",
    "for (cf,label) in zip(cfs_basic,labels_basic)\n",
    "    ax1.barh(i,cf,color=\"k\",alpha=alfa)\n",
    "    ax1.text(xmax-2,i,label,ha=\"right\",va=\"center\")\n",
    "    ax1.text(cf+2,i,string(round(Int,cf))*\"x\",ha=\"left\",va=\"center\")\n",
    "    i += 1\n",
    "end\n",
    "\n",
    "ax1.axhline(i-.3,color=\"k\",alpha=.2)\n",
    "ax1.text(40,i-.1,\"1-dimensional compression: Round+lossless\",va=\"top\",color=\"C1\",fontweight=\"bold\")\n",
    "i += 1\n",
    "\n",
    "for (cf,cf5,cf95,label) in zip(cfs_zstd,cfs_zstd5,cfs_zstd95,labels_zstd)\n",
    "    ax1.barh(i,cf,color=\"C1\",alpha=alfa)\n",
    "    ax1.plot([cf5,cf95],[i,i],\"C1\",lw=3,alpha=alfa)\n",
    "    ax1.text(xmax-2,i,label,ha=\"right\",va=\"center\")\n",
    "    ax1.text(5,i,string(round(Int,cf))*\"x\",ha=\"left\",va=\"center\")\n",
    "    i += 1\n",
    "end\n",
    "\n",
    "ax1.axhline(i-.3,color=\"k\",alpha=.2)\n",
    "ax1.text(40,i-.1,\"Multi-dimensional Zfp compression\",va=\"top\",color=\"teal\",fontweight=\"bold\")\n",
    "i += 1\n",
    "\n",
    "for (cf,cf5,cf95,label) in zip(cfs_zfp,cfs_zfp5,cfs_zfp95,labels_zfp)\n",
    "    ax1.barh(i,cf,color=\"teal\",alpha=alfa)\n",
    "    ax1.plot([cf5,cf95],[i,i],color=\"teal\",lw=3,alpha=alfa2)\n",
    "    ax1.text(xmax-2,i-.25,label,ha=\"right\",va=\"center\")\n",
    "    ax1.text(5,i,string(round(Int,cf))*\"x\",ha=\"left\",va=\"center\")\n",
    "    i += 1\n",
    "end\n",
    "\n",
    "ax1.xaxis.set_major_formatter(ticker.FormatStrFormatter(\"%dx\"))\n",
    "ax1.invert_yaxis()\n",
    "ax1.set_yticks([])\n",
    "ax1.set_xlim(0,xmax)\n",
    "ax1.set_xlabel(\"Compression factor\")\n",
    "ax1.set_title(\"Compressing temperature's real information in different dimensions\",loc=\"left\")\n",
    "ax1.grid(alpha=0.1)\n",
    "tight_layout()\n",
    "savefig(\"../plots/cfs_dimensions2.png\")"
   ]
  },
  {
   "cell_type": "code",
   "execution_count": null,
   "metadata": {},
   "outputs": [],
   "source": []
  },
  {
   "cell_type": "code",
   "execution_count": null,
   "metadata": {},
   "outputs": [],
   "source": []
  }
 ],
 "metadata": {
  "kernelspec": {
   "display_name": "Julia 1.5.2",
   "language": "julia",
   "name": "julia-1.5"
  },
  "language_info": {
   "file_extension": ".jl",
   "mimetype": "application/julia",
   "name": "julia",
   "version": "1.5.2"
  }
 },
 "nbformat": 4,
 "nbformat_minor": 4
}
