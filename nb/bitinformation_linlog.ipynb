{
 "cells": [
  {
   "cell_type": "code",
   "execution_count": null,
   "metadata": {},
   "outputs": [],
   "source": [
    "l = 137\n",
    "Li = LinQuant32Array(X[:,:,l]);\n",
    "LiA = Li.A;\n",
    "Lo = LogQuant32Array(X[:,:,l]);\n",
    "LoA = Lo.A;\n",
    "bitinf_lin = bitinformation(LiA)\n",
    "bitinf_log = bitinformation(LoA)\n",
    "bitinf_float = bitinformation(X[:,:,l]);\n",
    "p = 0.99\n",
    "plin = argmax((cumsum(bitinf_lin)/sum(bitinf_lin)) .> p)\n",
    "plog = argmax((cumsum(bitinf_log)/sum(bitinf_log)) .> p)\n",
    "pfloat = argmax((cumsum(bitinf_float)/sum(bitinf_float)) .> p)"
   ]
  },
  {
   "cell_type": "code",
   "execution_count": null,
   "metadata": {},
   "outputs": [],
   "source": [
    "fig,ax = subplots()\n",
    "ax.imshow(hcat(bitinf_lin,bitinf_log,bitinf_float)',cmap=\"inferno_r\")\n",
    "ax.plot([plin,plog,pfloat,pfloat] .-0.5,-0.5:1:2.5,\"cornflowerblue\",ds=\"steps-pre\")\n",
    "\n",
    "for (i,p) in enumerate([plin,plog,pfloat])\n",
    "    ax.text(p-0.3,i-0.9,string(p),fontsize=8,va=\"center\",color=\"cornflowerblue\")\n",
    "end\n",
    "\n",
    "yticks(0:2,[\"LinQuant32\",\"LogQuant32\",\"Float32\"])\n",
    "ax.set_xlabel(\"bits\")\n",
    "ax.set_title(\"Bitwise real information: Specific humidity\",loc=\"left\")\n",
    "xticks(0:31,string.(1:32),fontsize=8)\n",
    "tight_layout()"
   ]
  }
 ],
 "metadata": {
  "kernelspec": {
   "display_name": "Julia 1.6.0-rc2",
   "language": "julia",
   "name": "julia-1.6"
  },
  "language_info": {
   "file_extension": ".jl",
   "mimetype": "application/julia",
   "name": "julia",
   "version": "1.6.0"
  }
 },
 "nbformat": 4,
 "nbformat_minor": 2
}
