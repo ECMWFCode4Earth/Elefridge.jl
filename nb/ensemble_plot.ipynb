{
 "cells": [
  {
   "cell_type": "markdown",
   "metadata": {},
   "source": [
    "# Ensemble bitwise information content"
   ]
  },
  {
   "cell_type": "code",
   "execution_count": 1,
   "metadata": {},
   "outputs": [],
   "source": [
    "using FileIO, NetCDF, BitInformation\n",
    "using PyPlot\n",
    "using ColorSchemes\n",
    "using StatsBase, Statistics\n",
    "GS = matplotlib.gridspec\n",
    "ticker = matplotlib.ticker\n",
    "patches = matplotlib.patches;"
   ]
  },
  {
   "cell_type": "code",
   "execution_count": 2,
   "metadata": {},
   "outputs": [],
   "source": [
    "# Load one 3D chunk of temperature data\n",
    "path = \"/network/aopp/chaos/pred/kloewer/esowc/\"\n",
    "member1files = filter(x->endswith(x,\".nc\"),readdir(joinpath(path,\"member1\")))\n",
    "steps = [parse(Int,split(split(file,\"step\")[2],\".\")[1]) for file in member1files]\n",
    "sort!(steps)\n",
    "\n",
    "ncfile = NetCDF.open(joinpath(path,\"member1\",\"ensemble.t.member1.step0.ll.nc\"))\n",
    "temp = ncfile.vars[\"t\"][:,:,:];"
   ]
  },
  {
   "cell_type": "markdown",
   "metadata": {},
   "source": [
    "# Lon, lat, vert information"
   ]
  },
  {
   "cell_type": "code",
   "execution_count": 3,
   "metadata": {
    "scrolled": true
   },
   "outputs": [
    {
     "data": {
      "text/plain": [
       "32-element Vector{Float64}:\n",
       " 0.0\n",
       " 0.0\n",
       " 0.0\n",
       " 0.0\n",
       " 0.0\n",
       " 0.0\n",
       " 0.0\n",
       " 0.0\n",
       " 0.6487237531785313\n",
       " 0.6570582777415671\n",
       " 0.533995839047674\n",
       " 0.41803123970246814\n",
       " 0.21711636929577316\n",
       " ⋮\n",
       " 1.1024411258331313e-6\n",
       " 2.4882730864650426e-7\n",
       " 3.066419018704636e-8\n",
       " 2.8357480807983393e-9\n",
       " 3.0073655787887787e-9\n",
       " 1.1258041388018114e-8\n",
       " 8.588407152121391e-9\n",
       " 6.432460053495959e-8\n",
       " 9.829426256269258e-8\n",
       " 1.4073192611263607e-8\n",
       " 8.073035662192751e-8\n",
       " 7.537781510080777e-10"
      ]
     },
     "execution_count": 3,
     "metadata": {},
     "output_type": "execute_result"
    }
   ],
   "source": [
    "bi_lon = bitinformation(temp,dims=1)\n",
    "bi_lat = bitinformation(temp,dims=2)\n",
    "bi_vert = bitinformation(temp,dims=3)"
   ]
  },
  {
   "cell_type": "markdown",
   "metadata": {},
   "source": [
    "# Time information"
   ]
  },
  {
   "cell_type": "code",
   "execution_count": 4,
   "metadata": {
    "scrolled": true
   },
   "outputs": [],
   "source": [
    "Nlon = 1800\n",
    "Nlat = 901\n",
    "Nvert = 91\n",
    "Ntsteps = length(steps[1:91])   # use only 1hourly data from day 0 to 3.75\n",
    "\n",
    "# subsample in lat & vertical\n",
    "temp = Array{Float32,4}(undef,Ntsteps,Nlon,1+Nlat÷2,1+Nvert÷4)\n",
    "\n",
    "for itime in 1:Ntsteps\n",
    "    s = steps[itime]\n",
    "    ncfile = NetCDF.open(joinpath(path,\"member1\",\"ensemble.t.member1.step$s.ll.nc\"))\n",
    "    temp[itime,:,:,:] = ncfile.vars[\"t\"][:,1:2:end,1:4:end]\n",
    "end"
   ]
  },
  {
   "cell_type": "code",
   "execution_count": 5,
   "metadata": {},
   "outputs": [],
   "source": [
    "bi_time = bitinformation(temp,dims=1);"
   ]
  },
  {
   "cell_type": "markdown",
   "metadata": {},
   "source": [
    "### Post processing"
   ]
  },
  {
   "cell_type": "code",
   "execution_count": 6,
   "metadata": {},
   "outputs": [
    {
     "data": {
      "text/plain": [
       "remove_false_information! (generic function with 1 method)"
      ]
     },
     "execution_count": 6,
     "metadata": {},
     "output_type": "execute_result"
    }
   ],
   "source": [
    "function remove_false_information!(b::AbstractVector)\n",
    "    inf_thresh = 1.1*maximum(b[end-7:end])\n",
    "    b[b .< inf_thresh] .= 0\n",
    "end"
   ]
  },
  {
   "cell_type": "code",
   "execution_count": 7,
   "metadata": {},
   "outputs": [],
   "source": [
    "bi_lon_filt = copy(bi_lon)\n",
    "bi_lat_filt = copy(bi_lat)\n",
    "bi_vert_filt = copy(bi_vert)\n",
    "bi_time_filt = copy(bi_time)\n",
    "\n",
    "remove_false_information!(bi_lon_filt)\n",
    "remove_false_information!(bi_lat_filt)\n",
    "remove_false_information!(bi_time_filt)\n",
    "remove_false_information!(bi_vert_filt);"
   ]
  },
  {
   "cell_type": "code",
   "execution_count": 8,
   "metadata": {},
   "outputs": [],
   "source": [
    "path = \"/network/aopp/chaos/pred/kloewer/esowc/analysis/\";\n",
    "BI = load(joinpath(path,\"bitinformation_25members.jld2\"),\"BI\")\n",
    "\n",
    "BIfilt = copy(BI)\n",
    "\n",
    "for i in 1:size(BIfilt)[1]\n",
    "    @views remove_false_information!(BIfilt[i,:])\n",
    "end"
   ]
  },
  {
   "cell_type": "code",
   "execution_count": 9,
   "metadata": {
    "scrolled": true
   },
   "outputs": [],
   "source": [
    "bitvec = collect(1:32)\n",
    "timevec1 = collect(0:90) / 24       # in days, hourly\n",
    "timevec2 = collect(93:3:144) / 24   # 3-hourly\n",
    "timevec3 = collect(150:6:360) / 24; # 6-hourly\n",
    "timevec = vcat(timevec1,timevec2,timevec3);"
   ]
  },
  {
   "cell_type": "code",
   "execution_count": 10,
   "metadata": {},
   "outputs": [],
   "source": [
    "ntsteps = size(BI)[1]\n",
    "\n",
    "# bits preserving p amount of information\n",
    "p = 99\n",
    "bits_with_99information = [argmax(cumsum(BIfilt[t,:]) .> (p/100)*sum(BIfilt[t,:])) for t in 1:ntsteps]\n",
    "# same in the other dimensions\n",
    "b99inf_lon = argmax(cumsum(bi_lon_filt) .> (p/100)*sum(bi_lon_filt))\n",
    "b99inf_lat = argmax(cumsum(bi_lat_filt) .> (p/100)*sum(bi_lat_filt))\n",
    "b99inf_vert = argmax(cumsum(bi_vert_filt) .> (p/100)*sum(bi_vert_filt))\n",
    "b99inf_time = argmax(cumsum(bi_time_filt) .> (p/100)*sum(bi_time_filt))\n",
    "\n",
    "# bits preserving p amount of information\n",
    "p = 99.999999\n",
    "bits_with_100information = [argmax(cumsum(BIfilt[t,:]) .>= (p/100)*sum(BIfilt[t,:])) for t in 1:ntsteps]\n",
    "# same in the other dimensions\n",
    "b100inf_lon = argmax(cumsum(bi_lon_filt) .>= (p/100)*sum(bi_lon_filt))\n",
    "b100inf_lat = argmax(cumsum(bi_lat_filt) .>= (p/100)*sum(bi_lat_filt))\n",
    "b100inf_vert = argmax(cumsum(bi_vert_filt) .>= (p/100)*sum(bi_vert_filt))\n",
    "b100inf_time = argmax(cumsum(bi_time_filt) .>= (p/100)*sum(bi_time_filt));"
   ]
  },
  {
   "cell_type": "code",
   "execution_count": 11,
   "metadata": {},
   "outputs": [],
   "source": [
    "# mask true zeros for plotting\n",
    "bi_lon_filt[iszero.(bi_lon)] .= NaN\n",
    "bi_lat_filt[iszero.(bi_lat)] .= NaN\n",
    "bi_vert_filt[iszero.(bi_vert)] .= NaN\n",
    "bi_time_filt[iszero.(bi_time)] .= NaN\n",
    "BIfilt[iszero.(BI)] .= NaN;"
   ]
  },
  {
   "cell_type": "markdown",
   "metadata": {},
   "source": [
    "## PLOTTING"
   ]
  },
  {
   "cell_type": "code",
   "execution_count": 14,
   "metadata": {},
   "outputs": [
    {
     "data": {
      "image/png": "[encoded data removed]",
      "text/plain": [
       "Figure(PyObject <Figure size 800x400 with 6 Axes>)"
      ]
     },
     "metadata": {},
     "output_type": "display_data"
    }
   ],
   "source": [
    "fig = figure(figsize=(8,4))\n",
    "\n",
    "xmax = .7\n",
    "ax1 = fig.add_axes([0.1,0.1,xmax,.8])\n",
    "\n",
    "# for time,lon,lat,vert information\n",
    "ax4a = fig.add_axes([0.11+xmax,0.1,0.015,.8])\n",
    "ax4b = fig.add_axes([0.13+xmax,0.1,0.015,.8])\n",
    "ax4c = fig.add_axes([0.15+xmax,0.1,0.015,.8])\n",
    "ax4d = fig.add_axes([0.17+xmax,0.1,0.015,.8])\n",
    "\n",
    "pos = ax4d.get_position()\n",
    "cax = fig.add_axes([pos.x1+0.01,pos.y0,0.02,pos.y1-pos.y0])\n",
    "ax1.invert_yaxis()\n",
    "\n",
    "# information\n",
    "cmap = ColorMap(ColorSchemes.turku.colors).reversed()\n",
    "cmap_array = cmap(0:1/100000:1)\n",
    "cmap_array[1,:] = [1,1,1,1]\n",
    "\n",
    "pcm = ax1.pcolormesh(timevec,bitvec .- 0.5,BIfilt',vmin=0,vmax=1;cmap)\n",
    "cbar = colorbar(pcm,cax=cax,orientation=\"vertical\")\n",
    "cbar.set_label(\"information content [bit]\")\n",
    "\n",
    "for ax in [ax1,ax4a,ax4b,ax4c,ax4d]\n",
    "    ax.axhline(1.5,alpha=.3,lw=1.5,zorder=10)\n",
    "    ax.axhline(9.5,alpha=.5,lw=1.5,color=\"w\",zorder=10)\n",
    "end\n",
    "\n",
    "ax4a.pcolormesh([0,1],bitvec .- 0.5,bi_lon_filt[:,:],vmin=0,vmax=1;cmap)\n",
    "ax4b.pcolormesh([0,1],bitvec .- 0.5,bi_lat_filt[:,:],vmin=0,vmax=1;cmap)\n",
    "ax4c.pcolormesh([0,1],bitvec .- 0.5,bi_vert_filt[:,:],vmin=0,vmax=1;cmap)\n",
    "ax4d.pcolormesh([0,1],bitvec .- 0.5,bi_time_filt[:,:],vmin=0,vmax=1;cmap)\n",
    "\n",
    "# only for legend\n",
    "ax1.fill_between([0,0],[0,0],color=\"w\",label=\"unused bits\")\n",
    "ax1.fill_betweenx([-1,-1],[-1,-1],[-1,-1],color=\"burlywood\",label=\"last 1% of information\",alpha=.3)\n",
    "ax1.fill_betweenx([-1,-1],[-1,-1],[-1,-1],facecolor=\"teal\",edgecolor=\"c\",label=\"false information\",alpha=.3)\n",
    "\n",
    "# total information\n",
    "ax1.fill_between(timevec,0.5 .+ bits_with_100information,0.5 .+ bits_with_99information,\n",
    "                color=\"grey\",alpha=0.3,step=\"post\")\n",
    "ax1.fill_between(timevec,32*ones(ntsteps),0.5 .+ bits_with_100information,\n",
    "                color=\"teal\",alpha=0.3,step=\"post\")\n",
    "\n",
    "ax1.plot(timevec,0.5 .+ bits_with_99information,\"C1\",ds=\"steps-post\")\n",
    "ax1.plot(timevec,0.5 .+ bits_with_100information,\"teal\",ds=\"steps-post\")\n",
    "\n",
    "ax4a.axhline(b99inf_lon+0.5,color=\"C1\")\n",
    "ax4b.axhline(b99inf_lat+0.5,color=\"C1\")\n",
    "ax4c.axhline(b99inf_vert+0.5,color=\"C1\")\n",
    "ax4d.axhline(b99inf_time+0.5,color=\"C1\")\n",
    "\n",
    "ax4a.axhline(b100inf_lon+0.5,color=\"teal\")\n",
    "ax4b.axhline(b100inf_lat+0.5,color=\"teal\")\n",
    "ax4c.axhline(b100inf_vert+0.5,color=\"teal\")\n",
    "ax4d.axhline(b100inf_time+0.5,color=\"teal\")\n",
    "\n",
    "ax4a.fill_between([0,1],0.5 .+ [b100inf_lon,b100inf_lon],0.5 .+ [b99inf_lon,b99inf_lon],color=\"grey\",alpha=0.3)\n",
    "ax4b.fill_between([0,1],0.5 .+ [b100inf_lat,b100inf_lat],0.5 .+ [b99inf_lat,b99inf_lat],color=\"grey\",alpha=0.3)\n",
    "ax4c.fill_between([0,1],0.5 .+ [b100inf_vert,b100inf_vert],0.5 .+ [b99inf_vert,b99inf_vert],color=\"grey\",alpha=0.3)\n",
    "ax4d.fill_between([0,1],0.5 .+ [b100inf_time,b100inf_time],0.5 .+ [b99inf_time,b99inf_time],color=\"grey\",alpha=0.3)\n",
    "\n",
    "ax4a.fill_between([0,1],[32,32],0.5 .+ [b100inf_lon,b100inf_lon],color=\"teal\",alpha=0.3)\n",
    "ax4b.fill_between([0,1],[32,32],0.5 .+ [b100inf_lat,b100inf_lat],color=\"teal\",alpha=0.3)\n",
    "ax4c.fill_between([0,1],[32,32],0.5 .+ [b100inf_vert,b100inf_vert],color=\"teal\",alpha=0.3)\n",
    "ax4d.fill_between([0,1],[32,32],0.5 .+ [b100inf_time,b100inf_time],color=\"teal\",alpha=0.3)\n",
    "\n",
    "# show bits\n",
    "ymax = 25\n",
    "ax1.add_patch(patches.Rectangle((-.4,.5),.4,1,edgecolor=\"k\",fill=false))\n",
    "for y in bitvec[2:ymax]\n",
    "    ax1.add_patch(patches.Rectangle((-.4,y-.5),.4,1,edgecolor=\"k\",fill=false,zorder=10))\n",
    "    \n",
    "    if y < 10\n",
    "        bit_string = string(y-1)\n",
    "    elseif y < ymax\n",
    "        bit_string = string(y-9)\n",
    "    else\n",
    "        bit_string = \"⋮\"\n",
    "    end\n",
    "    \n",
    "    ax1.text(-.15,y+.1,bit_string,fontsize=7,ha=\"center\",va=\"center\")\n",
    "end\n",
    "\n",
    "ax1.set_title(\"Ensemble bitwise information content of temperature globally\",loc=\"left\")\n",
    "ax4a.text(0.65,7.5,\"LONGITUDE\",rotation=90,ha=\"center\",fontsize=8)\n",
    "ax4b.text(0.65,7.5,\"LATITUDE\",rotation=90,ha=\"center\",fontsize=8)\n",
    "ax4c.text(0.65,7.5,\"VERTICAL\",rotation=90,ha=\"center\",fontsize=8)\n",
    "ax4d.text(0.65,7.5,\"TIME\",rotation=90,ha=\"center\",fontsize=8)\n",
    "\n",
    "for (iax,ax) in enumerate([ax1,ax4a,ax4b,ax4c,ax4d])\n",
    "    ax.set_title(string(Char(96+iax)),loc=\"right\",fontweight=\"bold\")\n",
    "end\n",
    "\n",
    "ax1.legend(loc=4,fontsize=9,framealpha=.6)\n",
    "\n",
    "for ax in [ax4a,ax4b,ax4c,ax4d]\n",
    "    ax.set_yticks([])\n",
    "    ax.set_xticks([])\n",
    "end\n",
    "\n",
    "ax1.set_xlim(-.4,360/24)\n",
    "\n",
    "for ax in [ax1,ax4a,ax4b,ax4c,ax4d]\n",
    "    ax.set_ylim(ymax+.5,0.5)\n",
    "end\n",
    "\n",
    "ax1.set_yticks([1.5,9.5])\n",
    "ax1.set_yticklabels([])\n",
    "ax1.set_xlabel(\"forecast lead time [days]\")\n",
    "ax1.set_xticks(1:15,minor=true)\n",
    "\n",
    "ax1.text(-0.5,1.3,\"sign bit\",ha=\"right\")\n",
    "ax1.text(-0.5,8.9,\"exponent bits\",rotation=90,ha=\"right\")\n",
    "ax1.text(-0.5,20,\"significant bits\",rotation=90,ha=\"right\")\n",
    "\n",
    "ax1.text(10,14.2,\"↑ 99% of information\",color=\"C1\")\n",
    "ax1.text(2.5,18.2,\"↑ 100% of information\",color=\"grey\")\n",
    "\n",
    "savefig(\"../plots/ensemble_information2.png\")"
   ]
  },
  {
   "cell_type": "code",
   "execution_count": null,
   "metadata": {},
   "outputs": [],
   "source": []
  }
 ],
 "metadata": {
  "@webio": {
   "lastCommId": null,
   "lastKernelId": null
  },
  "kernelspec": {
   "display_name": "Julia 1.6.0-rc2",
   "language": "julia",
   "name": "julia-1.6"
  },
  "language_info": {
   "file_extension": ".jl",
   "mimetype": "application/julia",
   "name": "julia",
   "version": "1.6.0"
  }
 },
 "nbformat": 4,
 "nbformat_minor": 4
}
