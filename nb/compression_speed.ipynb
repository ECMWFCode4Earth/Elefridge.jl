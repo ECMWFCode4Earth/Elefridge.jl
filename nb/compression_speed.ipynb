{
 "cells": [
  {
   "cell_type": "markdown",
   "metadata": {},
   "source": [
    "# Compression speed"
   ]
  },
  {
   "cell_type": "code",
   "execution_count": 7,
   "metadata": {},
   "outputs": [
    {
     "data": {
      "text/plain": [
       "3"
      ]
     },
     "execution_count": 7,
     "metadata": {},
     "output_type": "execute_result"
    }
   ],
   "source": [
    "using ZfpCompression, TranscodingStreams, CodecZstd, LinLogQuantization\n",
    "using NetCDF, BitInformation\n",
    "using PyPlot, ColorSchemes\n",
    "using BenchmarkTools\n",
    "BenchmarkTools.DEFAULT_PARAMETERS.samples = 3"
   ]
  },
  {
   "cell_type": "code",
   "execution_count": 4,
   "metadata": {},
   "outputs": [],
   "source": [
    "# find file\n",
    "path = \"/network/aopp/chaos/pred/kloewer/esowc/cams/\"\n",
    "filelist = filter(x->endswith(x,\"_v3.nc\"),readdir(path))\n",
    "varname = \"q\"\n",
    "file = filelist[[occursin(varname,f) for f in filelist]][1]\n",
    "\n",
    "# load file\n",
    "ncfile = NetCDF.open(joinpath(path,file))\n",
    "X = ncfile.vars[varname][:,:,:];"
   ]
  },
  {
   "cell_type": "code",
   "execution_count": 5,
   "metadata": {},
   "outputs": [],
   "source": [
    "## DEFINE COMPRESSORS\n",
    "ZstdCompressors = Array{ZstdCompressor,1}(undef,22)\n",
    "\n",
    "for i in 1:22\n",
    "    ZstdCompressors[i] = ZstdCompressor(level=i)\n",
    "    TranscodingStreams.initialize(ZstdCompressors[i])\n",
    "end"
   ]
  },
  {
   "cell_type": "code",
   "execution_count": 10,
   "metadata": {},
   "outputs": [],
   "source": [
    "## Compress X with round+Zstd\n",
    "keepbits = 3\n",
    "Xr = round(X,3)\n",
    "Xr8 = copy(reinterpret(UInt8,vec(Xr)));"
   ]
  },
  {
   "cell_type": "code",
   "execution_count": 43,
   "metadata": {},
   "outputs": [
    {
     "name": "stdout",
     "output_type": "stream",
     "text": [
      "10\n",
      "11\n",
      "12\n",
      "13\n",
      "14\n",
      "15\n",
      "16\n",
      "17\n",
      "18\n",
      "19\n",
      "20\n",
      "21\n",
      "22\n"
     ]
    }
   ],
   "source": [
    "# cfs = fill(0.0,22)                # compression factors\n",
    "# speed_comp = fill(0.0,22)         # compression speeds and decompression\n",
    "# speed_decomp = fill(0.0,22)\n",
    "ori_size = sizeof(X)*2              # relative to Float64\n",
    "\n",
    "for i in 10:22   # loop over compression levels\n",
    "    println(i)\n",
    "    Xc = transcode(ZstdCompressors[i],Xr8)\n",
    "    \n",
    "    # # check whether compression is indeed reversible\n",
    "    # Xuc = transcode(ZstdDecompressor,Xc)\n",
    "    # @assert Xuc == Xr8     \n",
    "    \n",
    "    cfs[i] = ori_size/sizeof(Xc)\n",
    "    speed_comp[i] = minimum((@benchmark Xc = transcode(ZstdCompressors[$i],Xr8)).times)/1e9\n",
    "    speed_decomp[i] = minimum((@benchmark Xuc = transcode(ZstdDecompressor,$Xc)).times)/1e9\n",
    "end"
   ]
  },
  {
   "cell_type": "code",
   "execution_count": 39,
   "metadata": {},
   "outputs": [
    {
     "data": {
      "text/plain": [
       "22-element Vector{Float64}:\n",
       "  0.336281632\n",
       "  0.32122331\n",
       "  0.335841428\n",
       "  0.339031585\n",
       "  0.601185862\n",
       "  0.721221688\n",
       "  1.185135015\n",
       "  1.354563997\n",
       "  1.787839811\n",
       "  1.815049624\n",
       "  1.798064324\n",
       "  2.618867085\n",
       " 10.258235603\n",
       " 10.55898866\n",
       " 17.435386595\n",
       "  0.0\n",
       "  0.0\n",
       "  0.0\n",
       "  0.0\n",
       "  0.0\n",
       "  0.0\n",
       "  0.0"
      ]
     },
     "execution_count": 39,
     "metadata": {},
     "output_type": "execute_result"
    }
   ],
   "source": [
    "speed_comp"
   ]
  },
  {
   "cell_type": "code",
   "execution_count": 141,
   "metadata": {},
   "outputs": [
    {
     "data": {
      "text/plain": [
       "0.350346616"
      ]
     },
     "execution_count": 141,
     "metadata": {},
     "output_type": "execute_result"
    }
   ],
   "source": [
    "## Compress with Zfp (+log-preprocessing)\n",
    "precision = 11\n",
    "Xzfp = zfp_compress(log.(X);precision)\n",
    "speed_comp_zfp = minimum((@benchmark Xzfp = zfp_compress(log.(X);precision)).times)/1e9\n",
    "cfs_zfp = sizeof(X)*2/sizeof(Xzfp)\n",
    "speed_decomp_zfp = minimum((@benchmark zfp_decompress(Xzfp)).times)/1e9"
   ]
  },
  {
   "cell_type": "code",
   "execution_count": 138,
   "metadata": {},
   "outputs": [
    {
     "data": {
      "text/plain": [
       "71.11999836294946"
      ]
     },
     "execution_count": 138,
     "metadata": {},
     "output_type": "execute_result"
    }
   ],
   "source": [
    "# Median absolute/relative error from zfp\n",
    "precision = 11\n",
    "Xzfp = zfp_compress(log.(X);precision)\n",
    "Xd = exp.(zfp_decompress(Xzfp))\n",
    "absX = abs.(X .- Xd)\n",
    "maez = median(vec(absX))\n",
    "mrez = median(vec(absX./X))\n",
    "\n",
    "# and from rounding to keepbits\n",
    "absX = abs.(X .- Xr)\n",
    "maer = median(vec(absX))\n",
    "mrer = median(vec(absX./X))\n",
    "sizeof(X)*2/sizeof(Xzfp)"
   ]
  },
  {
   "cell_type": "code",
   "execution_count": 139,
   "metadata": {},
   "outputs": [
    {
     "data": {
      "text/plain": [
       "(1.2574492f-7, 1.6578451f-7)"
      ]
     },
     "execution_count": 139,
     "metadata": {},
     "output_type": "execute_result"
    }
   ],
   "source": [
    "(maez,maer)"
   ]
  },
  {
   "cell_type": "code",
   "execution_count": 140,
   "metadata": {},
   "outputs": [
    {
     "data": {
      "text/plain": [
       "(0.01468474f0, 0.022351297f0)"
      ]
     },
     "execution_count": 140,
     "metadata": {},
     "output_type": "execute_result"
    }
   ],
   "source": [
    "(mrez,mrer)"
   ]
  },
  {
   "cell_type": "code",
   "execution_count": 14,
   "metadata": {},
   "outputs": [
    {
     "data": {
      "text/plain": [
       "0.822890027"
      ]
     },
     "execution_count": 14,
     "metadata": {},
     "output_type": "execute_result"
    }
   ],
   "source": [
    "## Compress with LinQuant24\n",
    "Xlin24 = LinQuant16Array(X)\n",
    "Xlog16 = LogQuant16Array(X)\n",
    "\n",
    "speed_comp_lin24 = (@benchmark Xlin24 = LinQuant16Array(X)).times[1]/1e9       # use 16 as UInt24 is slow\n",
    "speed_comp_log16 = (@benchmark Xlog16 = LogQuant16Array(X)).times[1]/1e9\n",
    "\n",
    "speed_decomp_lin24 = (@benchmark Array{Float32}(Xlin24)).times[1]/1e9\n",
    "speed_decomp_log16 = (@benchmark Array{Float32}(Xlog16)).times[1]/1e9"
   ]
  },
  {
   "cell_type": "code",
   "execution_count": 142,
   "metadata": {},
   "outputs": [
    {
     "data": {
      "image/png": "[encoded data removed]",
      "text/plain": [
       "Figure(PyObject <Figure size 1000x300 with 3 Axes>)"
      ]
     },
     "metadata": {},
     "output_type": "display_data"
    }
   ],
   "source": [
    "## Plotting\n",
    "ioff()\n",
    "fig,(ax1,ax2,ax3) = subplots(1,3,sharex=true,figsize=(10,3))\n",
    "\n",
    "# ax1.grid(axis=\"y\")\n",
    "# ax1.set_axisbelow(true)\n",
    "\n",
    "zstd_x = 3 .+ Array(0:21)/3.0\n",
    "alfa = 0.7\n",
    "ori_size = sizeof(X)/1000^2  # in MB\n",
    "\n",
    "ax1.bar(1,64/24,color=\"grey\",edgecolor=\"k\")\n",
    "ax1.bar(2,4,color=\"k\")\n",
    "ax1.bar(zstd_x,cfs,alpha=alfa,color=\"teal\",width=0.25,edgecolor=\"k\",lw=0.5)\n",
    "ax1.bar(11,cfs_zfp,color=\"C1\",edgecolor=\"k\")\n",
    "\n",
    "# speed in MB/s\n",
    "ax2.bar(1,ori_size/speed_comp_lin24,color=\"grey\",edgecolor=\"k\")\n",
    "ax2.bar(2,ori_size/speed_comp_log16,color=\"k\")\n",
    "ax2.bar(zstd_x,ori_size./speed_comp,alpha=alfa,color=\"teal\",width=0.25,edgecolor=\"k\",lw=0.5)\n",
    "ax2.bar(11,ori_size/speed_comp_zfp,color=\"C1\",edgecolor=\"k\")\n",
    "\n",
    "ax3.bar(1,ori_size/speed_decomp_lin24,color=\"grey\",edgecolor=\"k\")\n",
    "ax3.bar(2,ori_size/speed_decomp_log16,color=\"k\")\n",
    "ax3.bar(zstd_x,ori_size./speed_decomp,alpha=alfa,color=\"teal\",width=0.25,edgecolor=\"k\",lw=0.5)\n",
    "ax3.bar(11,ori_size/speed_decomp_zfp,color=\"C1\",edgecolor=\"k\")\n",
    "\n",
    "ax2.set_yscale(\"log\")\n",
    "ax3.set_yscale(\"log\")\n",
    "\n",
    "ymax = 75\n",
    "ax1.set_ylim(1,ymax)\n",
    "ax2.set_ylim(1,5000)\n",
    "ax3.set_ylim(1,5000)\n",
    "ax1.set_xlim(0,12)\n",
    "\n",
    "ax1.set_xticks(zstd_x[[1,10,22]])\n",
    "ax1.set_xticks(zstd_x[2:end-1],minor=true)\n",
    "ax1.set_xticklabels([1,10,22])\n",
    "\n",
    "ax1.text(1,8,\"LinQuant24\",rotation=90,ha=\"center\")\n",
    "ax1.text(2,8,\"LogQuant16\",rotation=90,ha=\"center\")\n",
    "ax1.text(11.1,cfs_zfp-10,\"Zfp\",rotation=90,ha=\"center\")\n",
    "ax1.text(4,cfs[10]+5,\"Zstandard\\nlevel 1-22\")\n",
    "\n",
    "ax2.text(1,2,\"LinQuant24\",rotation=90,ha=\"center\",color=\"w\")\n",
    "ax2.text(2,2,\"LogQuant16\",rotation=90,ha=\"center\",color=\"w\")\n",
    "ax2.text(11.1,ori_size/speed_comp_zfp*2,\"Zfp\",rotation=90,ha=\"center\")\n",
    "ax2.text(5.6,ori_size/speed_comp[10]*2,\"Zstandard\\nlevel 1-22\")\n",
    "\n",
    "ax3.text(1,2,\"LinQuant24\",rotation=90,ha=\"center\",color=\"w\")\n",
    "ax3.text(2,2,\"LogQuant16\",rotation=90,ha=\"center\",color=\"w\")\n",
    "ax3.text(11.1,ori_size/speed_decomp_zfp*2,\"Zfp\",rotation=90,ha=\"center\")\n",
    "ax3.text(4,ori_size/speed_decomp[10]*2,\"Zstandard\\nlevel 1-22\")\n",
    "\n",
    "ytiks = 10:10:ymax\n",
    "ax1.set_yticks(ytiks)\n",
    "ax1.set_yticklabels([\"$(i)x\" for i in ytiks])\n",
    "\n",
    "ax2.set_yticks([1,10,100,1000,5000])\n",
    "ax2.set_yticklabels([1,10,100,1000,\"[MB/s]\"])\n",
    "ax3.set_yticks([1,10,100,1000,5000])\n",
    "ax3.set_yticklabels([1,10,100,1000,\"[MB/s]\"])\n",
    "\n",
    "# ax2.set_ylabel(\"MB/s\")\n",
    "# ax3.set_ylabel(\"MB/s\")\n",
    "\n",
    "ax1.set_title(\"Compression factors\",loc=\"left\")\n",
    "ax2.set_title(\"Compression speed\",loc=\"left\")\n",
    "ax3.set_title(\"Decompression speed\",loc=\"left\")\n",
    "\n",
    "ax1.set_title(\"a\",loc=\"right\",fontweight=\"bold\")\n",
    "ax2.set_title(\"b\",loc=\"right\",fontweight=\"bold\")\n",
    "ax3.set_title(\"c\",loc=\"right\",fontweight=\"bold\")\n",
    "\n",
    "for ax in [ax1,ax2,ax3]\n",
    "    ax.grid(alpha=.15,zorder=-10,which=\"both\",axis=\"y\")\n",
    "end\n",
    "\n",
    "tight_layout()\n",
    "# savefig(\"/Users/milan/git/Elefridge.jl/plots/level_speed_o3.png\",dpi=200)"
   ]
  },
  {
   "cell_type": "code",
   "execution_count": null,
   "metadata": {},
   "outputs": [],
   "source": []
  }
 ],
 "metadata": {
  "kernelspec": {
   "display_name": "Julia 1.6.0-rc2",
   "language": "julia",
   "name": "julia-1.6"
  },
  "language_info": {
   "file_extension": ".jl",
   "mimetype": "application/julia",
   "name": "julia",
   "version": "1.6.0"
  }
 },
 "nbformat": 4,
 "nbformat_minor": 2
}
